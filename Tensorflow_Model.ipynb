{
 "cells": [
  {
   "cell_type": "code",
   "execution_count": 1,
   "metadata": {},
   "outputs": [],
   "source": [
    "import pandas as pd \n",
    "import numpy as np\n",
    "\n",
    "import matplotlib.pyplot as plt\n",
    "import seaborn as sns\n",
    "\n",
    "from tensorflow.keras.models import Sequential\n",
    "from tensorflow.keras.layers import Dense\n",
    "from tensorflow.keras.wrappers.scikit_learn import KerasClassifier\n",
    "import tensorflow.keras.utils as utils\n",
    "from sklearn.model_selection import cross_val_score\n",
    "from sklearn.model_selection import train_test_split\n",
    "from sklearn.model_selection import KFold\n",
    "from sklearn.preprocessing import LabelEncoder\n",
    "from sklearn.pipeline import Pipeline\n",
    "from sklearn.datasets import make_classification\n",
    "from sklearn.preprocessing import MinMaxScaler\n",
    "from sklearn.metrics import classification_report,confusion_matrix"
   ]
  },
  {
   "cell_type": "code",
   "execution_count": 2,
   "metadata": {},
   "outputs": [],
   "source": [
    "# read in CSV files, add column labels \n",
    "\n",
    "df = pd.read_csv('enviro_data.csv', names=['DTG', 'temp', 'humidity', 'baro_pressure', 'co_2', 'tvoc', 'uv_raw', \n",
    "                                           'amb_raw', 'uv_idx', 'lux','violet', 'indigo', 'blue', 'cyan', 'green', \n",
    "                                           'yellow', 'orange', 'red', 'loc_class'])"
   ]
  },
  {
   "cell_type": "code",
   "execution_count": 3,
   "metadata": {},
   "outputs": [
    {
     "data": {
      "text/html": [
       "<div>\n",
       "<style scoped>\n",
       "    .dataframe tbody tr th:only-of-type {\n",
       "        vertical-align: middle;\n",
       "    }\n",
       "\n",
       "    .dataframe tbody tr th {\n",
       "        vertical-align: top;\n",
       "    }\n",
       "\n",
       "    .dataframe thead th {\n",
       "        text-align: right;\n",
       "    }\n",
       "</style>\n",
       "<table border=\"1\" class=\"dataframe\">\n",
       "  <thead>\n",
       "    <tr style=\"text-align: right;\">\n",
       "      <th></th>\n",
       "      <th>DTG</th>\n",
       "      <th>temp</th>\n",
       "      <th>humidity</th>\n",
       "      <th>baro_pressure</th>\n",
       "      <th>co_2</th>\n",
       "      <th>tvoc</th>\n",
       "      <th>uv_raw</th>\n",
       "      <th>amb_raw</th>\n",
       "      <th>uv_idx</th>\n",
       "      <th>lux</th>\n",
       "      <th>violet</th>\n",
       "      <th>indigo</th>\n",
       "      <th>blue</th>\n",
       "      <th>cyan</th>\n",
       "      <th>green</th>\n",
       "      <th>yellow</th>\n",
       "      <th>orange</th>\n",
       "      <th>red</th>\n",
       "      <th>loc_class</th>\n",
       "    </tr>\n",
       "  </thead>\n",
       "  <tbody>\n",
       "    <tr>\n",
       "      <th>0</th>\n",
       "      <td>2021-08-04 10:57:52</td>\n",
       "      <td>28.568</td>\n",
       "      <td>42.925</td>\n",
       "      <td>1020.728</td>\n",
       "      <td>400</td>\n",
       "      <td>0</td>\n",
       "      <td>98</td>\n",
       "      <td>59186</td>\n",
       "      <td>4.090</td>\n",
       "      <td>47338.4</td>\n",
       "      <td>65535</td>\n",
       "      <td>65535</td>\n",
       "      <td>65535</td>\n",
       "      <td>65535</td>\n",
       "      <td>65535</td>\n",
       "      <td>65535</td>\n",
       "      <td>65535</td>\n",
       "      <td>65535</td>\n",
       "      <td>blue</td>\n",
       "    </tr>\n",
       "    <tr>\n",
       "      <th>1</th>\n",
       "      <td>2021-08-04 10:57:54</td>\n",
       "      <td>28.612</td>\n",
       "      <td>42.682</td>\n",
       "      <td>1020.742</td>\n",
       "      <td>400</td>\n",
       "      <td>0</td>\n",
       "      <td>99</td>\n",
       "      <td>59865</td>\n",
       "      <td>4.132</td>\n",
       "      <td>47916.8</td>\n",
       "      <td>65535</td>\n",
       "      <td>65535</td>\n",
       "      <td>65535</td>\n",
       "      <td>65535</td>\n",
       "      <td>65535</td>\n",
       "      <td>65535</td>\n",
       "      <td>65535</td>\n",
       "      <td>65535</td>\n",
       "      <td>blue</td>\n",
       "    </tr>\n",
       "    <tr>\n",
       "      <th>2</th>\n",
       "      <td>2021-08-04 10:57:56</td>\n",
       "      <td>28.619</td>\n",
       "      <td>42.151</td>\n",
       "      <td>1020.720</td>\n",
       "      <td>400</td>\n",
       "      <td>0</td>\n",
       "      <td>99</td>\n",
       "      <td>60124</td>\n",
       "      <td>4.216</td>\n",
       "      <td>48069.6</td>\n",
       "      <td>65535</td>\n",
       "      <td>65535</td>\n",
       "      <td>65535</td>\n",
       "      <td>65535</td>\n",
       "      <td>65535</td>\n",
       "      <td>65535</td>\n",
       "      <td>65535</td>\n",
       "      <td>65535</td>\n",
       "      <td>blue</td>\n",
       "    </tr>\n",
       "    <tr>\n",
       "      <th>3</th>\n",
       "      <td>2021-08-04 10:57:58</td>\n",
       "      <td>28.595</td>\n",
       "      <td>41.746</td>\n",
       "      <td>1020.713</td>\n",
       "      <td>400</td>\n",
       "      <td>0</td>\n",
       "      <td>99</td>\n",
       "      <td>59416</td>\n",
       "      <td>4.090</td>\n",
       "      <td>46434.4</td>\n",
       "      <td>65535</td>\n",
       "      <td>65535</td>\n",
       "      <td>65535</td>\n",
       "      <td>65535</td>\n",
       "      <td>65535</td>\n",
       "      <td>65535</td>\n",
       "      <td>65535</td>\n",
       "      <td>65535</td>\n",
       "      <td>blue</td>\n",
       "    </tr>\n",
       "    <tr>\n",
       "      <th>4</th>\n",
       "      <td>2021-08-04 10:58:00</td>\n",
       "      <td>28.629</td>\n",
       "      <td>41.451</td>\n",
       "      <td>1020.549</td>\n",
       "      <td>400</td>\n",
       "      <td>0</td>\n",
       "      <td>54</td>\n",
       "      <td>27978</td>\n",
       "      <td>2.254</td>\n",
       "      <td>23488.8</td>\n",
       "      <td>56330</td>\n",
       "      <td>65535</td>\n",
       "      <td>65535</td>\n",
       "      <td>65535</td>\n",
       "      <td>65535</td>\n",
       "      <td>65535</td>\n",
       "      <td>65535</td>\n",
       "      <td>65535</td>\n",
       "      <td>blue</td>\n",
       "    </tr>\n",
       "  </tbody>\n",
       "</table>\n",
       "</div>"
      ],
      "text/plain": [
       "                   DTG    temp  humidity  baro_pressure  co_2  tvoc  uv_raw  \\\n",
       "0  2021-08-04 10:57:52  28.568    42.925       1020.728   400     0      98   \n",
       "1  2021-08-04 10:57:54  28.612    42.682       1020.742   400     0      99   \n",
       "2  2021-08-04 10:57:56  28.619    42.151       1020.720   400     0      99   \n",
       "3  2021-08-04 10:57:58  28.595    41.746       1020.713   400     0      99   \n",
       "4  2021-08-04 10:58:00  28.629    41.451       1020.549   400     0      54   \n",
       "\n",
       "   amb_raw  uv_idx      lux  violet  indigo   blue   cyan  green  yellow  \\\n",
       "0    59186   4.090  47338.4   65535   65535  65535  65535  65535   65535   \n",
       "1    59865   4.132  47916.8   65535   65535  65535  65535  65535   65535   \n",
       "2    60124   4.216  48069.6   65535   65535  65535  65535  65535   65535   \n",
       "3    59416   4.090  46434.4   65535   65535  65535  65535  65535   65535   \n",
       "4    27978   2.254  23488.8   56330   65535  65535  65535  65535   65535   \n",
       "\n",
       "   orange    red loc_class  \n",
       "0   65535  65535      blue  \n",
       "1   65535  65535      blue  \n",
       "2   65535  65535      blue  \n",
       "3   65535  65535      blue  \n",
       "4   65535  65535      blue  "
      ]
     },
     "execution_count": 3,
     "metadata": {},
     "output_type": "execute_result"
    }
   ],
   "source": [
    "df.head()"
   ]
  },
  {
   "cell_type": "code",
   "execution_count": 4,
   "metadata": {},
   "outputs": [],
   "source": [
    "# based on previous EDA, identify columns that are either:\n",
    "# 1) not helpful (co2 -> all the same values, uv_raw and amb_raw -> just used to derive uv index and lux)\n",
    "# 2) inaccruate (all of the DTG data was off)\n",
    "\n",
    "df = df.drop(columns=['DTG', 'co_2', 'uv_raw', 'amb_raw'], axis=1)"
   ]
  },
  {
   "cell_type": "code",
   "execution_count": 5,
   "metadata": {},
   "outputs": [
    {
     "data": {
      "text/plain": [
       "Index(['temp', 'humidity', 'baro_pressure', 'tvoc', 'uv_idx', 'lux', 'violet',\n",
       "       'indigo', 'blue', 'cyan', 'green', 'yellow', 'orange', 'red',\n",
       "       'loc_class'],\n",
       "      dtype='object')"
      ]
     },
     "execution_count": 5,
     "metadata": {},
     "output_type": "execute_result"
    }
   ],
   "source": [
    "df.columns"
   ]
  },
  {
   "cell_type": "code",
   "execution_count": 6,
   "metadata": {},
   "outputs": [],
   "source": [
    "# may need this later to decode the results \n",
    "\n",
    "labels = df['loc_class']"
   ]
  },
  {
   "cell_type": "code",
   "execution_count": 7,
   "metadata": {},
   "outputs": [],
   "source": [
    "# identify my independent and dependent variables\n",
    "\n",
    "dataset = df.values\n",
    "X = dataset[:,0:14].astype(float)\n",
    "y = dataset[:,14]"
   ]
  },
  {
   "cell_type": "code",
   "execution_count": 8,
   "metadata": {},
   "outputs": [
    {
     "data": {
      "text/plain": [
       "(array(['blue', 'green', 'yellow'], dtype=object), array([2331, 2334, 2398]))"
      ]
     },
     "execution_count": 8,
     "metadata": {},
     "output_type": "execute_result"
    }
   ],
   "source": [
    "np.unique(y, return_counts=True)"
   ]
  },
  {
   "cell_type": "code",
   "execution_count": 9,
   "metadata": {},
   "outputs": [],
   "source": [
    "# encode class values as integers\n",
    "\n",
    "encoder = LabelEncoder()\n",
    "encoder.fit(y)\n",
    "encoded_y = encoder.transform(y)"
   ]
  },
  {
   "cell_type": "code",
   "execution_count": 10,
   "metadata": {},
   "outputs": [],
   "source": [
    "# convert integers to dummy variables (i.e. one hot encoded)\n",
    "\n",
    "y = utils.to_categorical(encoded_y)"
   ]
  },
  {
   "cell_type": "code",
   "execution_count": 45,
   "metadata": {},
   "outputs": [
    {
     "data": {
      "text/plain": [
       "array([[1., 0., 0.],\n",
       "       [1., 0., 0.],\n",
       "       [1., 0., 0.],\n",
       "       ...,\n",
       "       [1., 0., 0.],\n",
       "       [1., 0., 0.],\n",
       "       [1., 0., 0.]], dtype=float32)"
      ]
     },
     "execution_count": 45,
     "metadata": {},
     "output_type": "execute_result"
    }
   ],
   "source": [
    "y"
   ]
  },
  {
   "cell_type": "code",
   "execution_count": 11,
   "metadata": {},
   "outputs": [
    {
     "data": {
      "text/plain": [
       "array([2331., 2334., 2398.], dtype=float32)"
      ]
     },
     "execution_count": 11,
     "metadata": {},
     "output_type": "execute_result"
    }
   ],
   "source": [
    "# [blue, green, yellow]\n",
    "np.sum(y, axis=0) "
   ]
  },
  {
   "cell_type": "code",
   "execution_count": 12,
   "metadata": {},
   "outputs": [],
   "source": [
    "# model function\n",
    "\n",
    "def my_model():\n",
    "\t# create model\n",
    "\tmodel = Sequential()\n",
    "\tmodel.add(Dense(28, input_dim=14, activation='relu'))\n",
    "\tmodel.add(Dense(3, activation='softmax'))\n",
    "\t# Compile model\n",
    "\tmodel.compile(loss='categorical_crossentropy', optimizer='adam', metrics=['accuracy'])\n",
    "\treturn model\n"
   ]
  },
  {
   "cell_type": "code",
   "execution_count": 13,
   "metadata": {},
   "outputs": [],
   "source": [
    "# define a scaler variable so I can scale the data for better results\n",
    "\n",
    "scaler = MinMaxScaler()"
   ]
  },
  {
   "cell_type": "code",
   "execution_count": 14,
   "metadata": {},
   "outputs": [],
   "source": [
    "# train, test, split\n",
    "\n",
    "X_train, X_test, y_train, y_test = train_test_split(X, y, test_size=0.2, random_state=42)"
   ]
  },
  {
   "cell_type": "code",
   "execution_count": 15,
   "metadata": {},
   "outputs": [],
   "source": [
    "# fit the scaler on the training dataset only and then transform it\n",
    "\n",
    "X_train = scaler.fit_transform(X_train)"
   ]
  },
  {
   "cell_type": "code",
   "execution_count": 16,
   "metadata": {},
   "outputs": [],
   "source": [
    "# transform the test dataset to scale\n",
    "\n",
    "X_test = scaler.transform(X_test)"
   ]
  },
  {
   "cell_type": "code",
   "execution_count": 17,
   "metadata": {},
   "outputs": [
    {
     "data": {
      "text/plain": [
       "array([459., 466., 488.], dtype=float32)"
      ]
     },
     "execution_count": 17,
     "metadata": {},
     "output_type": "execute_result"
    }
   ],
   "source": [
    "np.sum(y_test, axis=0)"
   ]
  },
  {
   "cell_type": "code",
   "execution_count": 18,
   "metadata": {},
   "outputs": [],
   "source": [
    "# create my model\n",
    "\n",
    "model = my_model()"
   ]
  },
  {
   "cell_type": "code",
   "execution_count": 19,
   "metadata": {
    "scrolled": true
   },
   "outputs": [
    {
     "name": "stdout",
     "output_type": "stream",
     "text": [
      "Epoch 1/10\n",
      "1413/1413 [==============================] - 1s 473us/step - loss: 0.6623 - accuracy: 0.7606\n",
      "Epoch 2/10\n",
      "1413/1413 [==============================] - 1s 469us/step - loss: 0.2310 - accuracy: 0.9205\n",
      "Epoch 3/10\n",
      "1413/1413 [==============================] - 1s 469us/step - loss: 0.1853 - accuracy: 0.9246\n",
      "Epoch 4/10\n",
      "1413/1413 [==============================] - 1s 466us/step - loss: 0.1487 - accuracy: 0.9341\n",
      "Epoch 5/10\n",
      "1413/1413 [==============================] - 1s 466us/step - loss: 0.1251 - accuracy: 0.9459\n",
      "Epoch 6/10\n",
      "1413/1413 [==============================] - 1s 467us/step - loss: 0.1195 - accuracy: 0.9493\n",
      "Epoch 7/10\n",
      "1413/1413 [==============================] - 1s 466us/step - loss: 0.1041 - accuracy: 0.9538\n",
      "Epoch 8/10\n",
      "1413/1413 [==============================] - 1s 469us/step - loss: 0.0913 - accuracy: 0.9647\n",
      "Epoch 9/10\n",
      "1413/1413 [==============================] - 1s 470us/step - loss: 0.0809 - accuracy: 0.9697\n",
      "Epoch 10/10\n",
      "1413/1413 [==============================] - 1s 471us/step - loss: 0.0753 - accuracy: 0.9740\n"
     ]
    },
    {
     "data": {
      "text/plain": [
       "<tensorflow.python.keras.callbacks.History at 0x7fb19883bd00>"
      ]
     },
     "execution_count": 19,
     "metadata": {},
     "output_type": "execute_result"
    }
   ],
   "source": [
    "# fit my model\n",
    "\n",
    "model.fit(X_train, y_train, epochs=10, batch_size=4, verbose=1)"
   ]
  },
  {
   "cell_type": "code",
   "execution_count": 20,
   "metadata": {},
   "outputs": [],
   "source": [
    "# turn my loss data into a datafram so I can graph it and see trends\n",
    "\n",
    "loss = pd.DataFrame(model.history.history)"
   ]
  },
  {
   "cell_type": "code",
   "execution_count": 21,
   "metadata": {},
   "outputs": [
    {
     "data": {
      "text/plain": [
       "<AxesSubplot:>"
      ]
     },
     "execution_count": 21,
     "metadata": {},
     "output_type": "execute_result"
    },
    {
     "data": {
      "image/png": "[encoded data removed]",
      "text/plain": [
       "<Figure size 432x288 with 1 Axes>"
      ]
     },
     "metadata": {
      "needs_background": "light"
     },
     "output_type": "display_data"
    }
   ],
   "source": [
    "loss.plot()"
   ]
  },
  {
   "cell_type": "code",
   "execution_count": 22,
   "metadata": {},
   "outputs": [],
   "source": [
    "# make predictions \n",
    "# predictions = model.predict_classes(X_test)\n",
    "\n",
    "predictions = np.argmax(model.predict(X_test), axis=-1)"
   ]
  },
  {
   "cell_type": "code",
   "execution_count": 23,
   "metadata": {},
   "outputs": [
    {
     "data": {
      "text/plain": [
       "array([0, 2, 2, ..., 0, 1, 1])"
      ]
     },
     "execution_count": 23,
     "metadata": {},
     "output_type": "execute_result"
    }
   ],
   "source": [
    "predictions"
   ]
  },
  {
   "cell_type": "code",
   "execution_count": 24,
   "metadata": {},
   "outputs": [
    {
     "data": {
      "text/plain": [
       "(array([0, 1, 2]), array([413, 511, 489]))"
      ]
     },
     "execution_count": 24,
     "metadata": {},
     "output_type": "execute_result"
    }
   ],
   "source": [
    "np.unique(predictions, return_counts=True)"
   ]
  },
  {
   "cell_type": "code",
   "execution_count": 24,
   "metadata": {},
   "outputs": [
    {
     "data": {
      "text/plain": [
       "numpy.ndarray"
      ]
     },
     "execution_count": 24,
     "metadata": {},
     "output_type": "execute_result"
    }
   ],
   "source": [
    "type(predictions)"
   ]
  },
  {
   "cell_type": "code",
   "execution_count": 25,
   "metadata": {},
   "outputs": [
    {
     "data": {
      "text/plain": [
       "array([[1., 0., 0.],\n",
       "       [0., 0., 1.],\n",
       "       [0., 0., 1.],\n",
       "       ...,\n",
       "       [1., 0., 0.],\n",
       "       [0., 1., 0.],\n",
       "       [0., 1., 0.]], dtype=float32)"
      ]
     },
     "execution_count": 25,
     "metadata": {},
     "output_type": "execute_result"
    }
   ],
   "source": [
    "y_test"
   ]
  },
  {
   "cell_type": "code",
   "execution_count": 26,
   "metadata": {},
   "outputs": [
    {
     "data": {
      "text/plain": [
       "array([[1, 0, 0],\n",
       "       [0, 0, 1],\n",
       "       [0, 0, 1],\n",
       "       ...,\n",
       "       [1, 0, 0],\n",
       "       [0, 1, 0],\n",
       "       [0, 1, 0]])"
      ]
     },
     "execution_count": 26,
     "metadata": {},
     "output_type": "execute_result"
    }
   ],
   "source": [
    "y_test.astype(int)"
   ]
  },
  {
   "cell_type": "code",
   "execution_count": 27,
   "metadata": {},
   "outputs": [],
   "source": [
    "# function so I can easily compare the true Y values with the predictions\n",
    "# the true y values are in a numpy array format, so I am converting it to integers that match the predictions format\n",
    "\n",
    "def convert_to_int(some_array):\n",
    "    true_values = []\n",
    "    for val in some_array:\n",
    "        if val[0] == 1:\n",
    "            true_values.append(0)\n",
    "        elif val[1] == 1:\n",
    "            true_values.append(1)\n",
    "        elif val[2] == 1:\n",
    "            true_values.append(2)\n",
    "    \n",
    "    return true_values\n"
   ]
  },
  {
   "cell_type": "code",
   "execution_count": 28,
   "metadata": {},
   "outputs": [],
   "source": [
    "# apply my convert function to the true y values\n",
    "\n",
    "true_y = convert_to_int(y_test)\n",
    "\n",
    "# convert predictions np array into a dataframe\n",
    "\n",
    "predictions = pd.DataFrame(predictions)\n",
    "\n",
    "# convert the (modified) true y values to a dataframe\n",
    "\n",
    "true_y = pd.DataFrame(true_y)\n",
    "\n",
    "# this step makes it easier to concatenate the predictions and the true y values into one dataframe?\n",
    "\n",
    "both = [predictions, true_y]\n",
    "\n",
    "# concatenate the true y values and the predictions into one dataframe\n",
    "\n",
    "results = pd.concat(both, axis=1)\n",
    "\n",
    "# set the column names for the results dataframe\n",
    "\n",
    "results.columns=['Predictions', 'True Values']\n",
    "\n",
    "# add a third column so I can get boolean values for each row as to whether or not the prediction matched the true value\n",
    "\n",
    "results['Correct'] = results['Predictions'] == results['True Values']"
   ]
  },
  {
   "cell_type": "code",
   "execution_count": 29,
   "metadata": {},
   "outputs": [
    {
     "data": {
      "text/html": [
       "<div>\n",
       "<style scoped>\n",
       "    .dataframe tbody tr th:only-of-type {\n",
       "        vertical-align: middle;\n",
       "    }\n",
       "\n",
       "    .dataframe tbody tr th {\n",
       "        vertical-align: top;\n",
       "    }\n",
       "\n",
       "    .dataframe thead th {\n",
       "        text-align: right;\n",
       "    }\n",
       "</style>\n",
       "<table border=\"1\" class=\"dataframe\">\n",
       "  <thead>\n",
       "    <tr style=\"text-align: right;\">\n",
       "      <th></th>\n",
       "      <th>Predictions</th>\n",
       "      <th>True Values</th>\n",
       "      <th>Correct</th>\n",
       "    </tr>\n",
       "  </thead>\n",
       "  <tbody>\n",
       "    <tr>\n",
       "      <th>0</th>\n",
       "      <td>0</td>\n",
       "      <td>0</td>\n",
       "      <td>True</td>\n",
       "    </tr>\n",
       "    <tr>\n",
       "      <th>1</th>\n",
       "      <td>2</td>\n",
       "      <td>2</td>\n",
       "      <td>True</td>\n",
       "    </tr>\n",
       "    <tr>\n",
       "      <th>2</th>\n",
       "      <td>2</td>\n",
       "      <td>2</td>\n",
       "      <td>True</td>\n",
       "    </tr>\n",
       "    <tr>\n",
       "      <th>3</th>\n",
       "      <td>1</td>\n",
       "      <td>1</td>\n",
       "      <td>True</td>\n",
       "    </tr>\n",
       "    <tr>\n",
       "      <th>4</th>\n",
       "      <td>2</td>\n",
       "      <td>2</td>\n",
       "      <td>True</td>\n",
       "    </tr>\n",
       "  </tbody>\n",
       "</table>\n",
       "</div>"
      ],
      "text/plain": [
       "   Predictions  True Values  Correct\n",
       "0            0            0     True\n",
       "1            2            2     True\n",
       "2            2            2     True\n",
       "3            1            1     True\n",
       "4            2            2     True"
      ]
     },
     "execution_count": 29,
     "metadata": {},
     "output_type": "execute_result"
    }
   ],
   "source": [
    "results.head()"
   ]
  },
  {
   "cell_type": "code",
   "execution_count": 31,
   "metadata": {},
   "outputs": [
    {
     "name": "stdout",
     "output_type": "stream",
     "text": [
      "0.9554140127388535\n"
     ]
    }
   ],
   "source": [
    "# how many the model got correct\n",
    "\n",
    "nbr_correct = results['Correct'].sum()\n",
    "\n",
    "# total number of data points\n",
    "\n",
    "total_row = len(results)\n",
    "\n",
    "# the accuracy score for my model\n",
    "\n",
    "accuracy = nbr_correct / total_row\n",
    "\n",
    "print(accuracy)"
   ]
  },
  {
   "cell_type": "code",
   "execution_count": null,
   "metadata": {},
   "outputs": [],
   "source": [
    "def prediction(row):\n",
    "\tpred = np.argmax(model.predict(row),axis=-1)\n",
    "\treturn pred"
   ]
  },
  {
   "cell_type": "markdown",
   "metadata": {},
   "source": [
    "# Testing on Outside Data"
   ]
  },
  {
   "cell_type": "code",
   "execution_count": 32,
   "metadata": {},
   "outputs": [],
   "source": [
    "outside_data = pd.read_csv('enviro_test_data.csv', names=['DTG', 'temp', 'humidity', 'baro_pressure', 'tvoc', \n",
    "                                           'uv_idx', 'lux','violet', 'indigo', 'blue', 'cyan', 'green', \n",
    "                                           'yellow', 'orange', 'red'])"
   ]
  },
  {
   "cell_type": "code",
   "execution_count": 46,
   "metadata": {},
   "outputs": [
    {
     "data": {
      "text/html": [
       "<div>\n",
       "<style scoped>\n",
       "    .dataframe tbody tr th:only-of-type {\n",
       "        vertical-align: middle;\n",
       "    }\n",
       "\n",
       "    .dataframe tbody tr th {\n",
       "        vertical-align: top;\n",
       "    }\n",
       "\n",
       "    .dataframe thead th {\n",
       "        text-align: right;\n",
       "    }\n",
       "</style>\n",
       "<table border=\"1\" class=\"dataframe\">\n",
       "  <thead>\n",
       "    <tr style=\"text-align: right;\">\n",
       "      <th></th>\n",
       "      <th>temp</th>\n",
       "      <th>humidity</th>\n",
       "      <th>baro_pressure</th>\n",
       "      <th>tvoc</th>\n",
       "      <th>uv_idx</th>\n",
       "      <th>lux</th>\n",
       "      <th>violet</th>\n",
       "      <th>indigo</th>\n",
       "      <th>blue</th>\n",
       "      <th>cyan</th>\n",
       "      <th>green</th>\n",
       "      <th>yellow</th>\n",
       "      <th>orange</th>\n",
       "      <th>red</th>\n",
       "    </tr>\n",
       "  </thead>\n",
       "  <tbody>\n",
       "    <tr>\n",
       "      <th>0</th>\n",
       "      <td>27.944</td>\n",
       "      <td>67.587</td>\n",
       "      <td>1022.257</td>\n",
       "      <td>165</td>\n",
       "      <td>0.000</td>\n",
       "      <td>92.8</td>\n",
       "      <td>69</td>\n",
       "      <td>204</td>\n",
       "      <td>205</td>\n",
       "      <td>296</td>\n",
       "      <td>1230</td>\n",
       "      <td>929</td>\n",
       "      <td>2060</td>\n",
       "      <td>364</td>\n",
       "    </tr>\n",
       "    <tr>\n",
       "      <th>1</th>\n",
       "      <td>28.054</td>\n",
       "      <td>67.437</td>\n",
       "      <td>1022.293</td>\n",
       "      <td>112</td>\n",
       "      <td>0.000</td>\n",
       "      <td>10.4</td>\n",
       "      <td>14</td>\n",
       "      <td>26</td>\n",
       "      <td>35</td>\n",
       "      <td>46</td>\n",
       "      <td>145</td>\n",
       "      <td>192</td>\n",
       "      <td>213</td>\n",
       "      <td>59</td>\n",
       "    </tr>\n",
       "    <tr>\n",
       "      <th>2</th>\n",
       "      <td>28.154</td>\n",
       "      <td>66.923</td>\n",
       "      <td>1022.324</td>\n",
       "      <td>74</td>\n",
       "      <td>0.000</td>\n",
       "      <td>10.4</td>\n",
       "      <td>15</td>\n",
       "      <td>25</td>\n",
       "      <td>35</td>\n",
       "      <td>46</td>\n",
       "      <td>150</td>\n",
       "      <td>195</td>\n",
       "      <td>217</td>\n",
       "      <td>60</td>\n",
       "    </tr>\n",
       "    <tr>\n",
       "      <th>3</th>\n",
       "      <td>28.238</td>\n",
       "      <td>66.826</td>\n",
       "      <td>1022.339</td>\n",
       "      <td>48</td>\n",
       "      <td>0.000</td>\n",
       "      <td>10.4</td>\n",
       "      <td>15</td>\n",
       "      <td>25</td>\n",
       "      <td>36</td>\n",
       "      <td>47</td>\n",
       "      <td>151</td>\n",
       "      <td>197</td>\n",
       "      <td>218</td>\n",
       "      <td>60</td>\n",
       "    </tr>\n",
       "    <tr>\n",
       "      <th>4</th>\n",
       "      <td>26.240</td>\n",
       "      <td>74.797</td>\n",
       "      <td>1024.256</td>\n",
       "      <td>18</td>\n",
       "      <td>0.042</td>\n",
       "      <td>516.0</td>\n",
       "      <td>3523</td>\n",
       "      <td>5029</td>\n",
       "      <td>6527</td>\n",
       "      <td>7185</td>\n",
       "      <td>6684</td>\n",
       "      <td>6420</td>\n",
       "      <td>9324</td>\n",
       "      <td>10610</td>\n",
       "    </tr>\n",
       "    <tr>\n",
       "      <th>5</th>\n",
       "      <td>26.093</td>\n",
       "      <td>76.153</td>\n",
       "      <td>1024.264</td>\n",
       "      <td>0</td>\n",
       "      <td>0.042</td>\n",
       "      <td>521.6</td>\n",
       "      <td>3545</td>\n",
       "      <td>5062</td>\n",
       "      <td>6570</td>\n",
       "      <td>7247</td>\n",
       "      <td>6752</td>\n",
       "      <td>6487</td>\n",
       "      <td>9373</td>\n",
       "      <td>10723</td>\n",
       "    </tr>\n",
       "    <tr>\n",
       "      <th>6</th>\n",
       "      <td>25.959</td>\n",
       "      <td>76.704</td>\n",
       "      <td>1024.267</td>\n",
       "      <td>0</td>\n",
       "      <td>0.125</td>\n",
       "      <td>527.2</td>\n",
       "      <td>3574</td>\n",
       "      <td>5099</td>\n",
       "      <td>6623</td>\n",
       "      <td>7308</td>\n",
       "      <td>6818</td>\n",
       "      <td>6555</td>\n",
       "      <td>9483</td>\n",
       "      <td>10845</td>\n",
       "    </tr>\n",
       "    <tr>\n",
       "      <th>7</th>\n",
       "      <td>25.845</td>\n",
       "      <td>77.458</td>\n",
       "      <td>1024.291</td>\n",
       "      <td>0</td>\n",
       "      <td>0.042</td>\n",
       "      <td>533.6</td>\n",
       "      <td>3606</td>\n",
       "      <td>5146</td>\n",
       "      <td>6684</td>\n",
       "      <td>7380</td>\n",
       "      <td>6898</td>\n",
       "      <td>6634</td>\n",
       "      <td>9555</td>\n",
       "      <td>10980</td>\n",
       "    </tr>\n",
       "    <tr>\n",
       "      <th>8</th>\n",
       "      <td>27.255</td>\n",
       "      <td>74.647</td>\n",
       "      <td>1022.757</td>\n",
       "      <td>0</td>\n",
       "      <td>0.543</td>\n",
       "      <td>6611.2</td>\n",
       "      <td>21492</td>\n",
       "      <td>26495</td>\n",
       "      <td>34328</td>\n",
       "      <td>49629</td>\n",
       "      <td>48129</td>\n",
       "      <td>57125</td>\n",
       "      <td>65535</td>\n",
       "      <td>65535</td>\n",
       "    </tr>\n",
       "    <tr>\n",
       "      <th>9</th>\n",
       "      <td>27.182</td>\n",
       "      <td>74.687</td>\n",
       "      <td>1022.742</td>\n",
       "      <td>0</td>\n",
       "      <td>0.543</td>\n",
       "      <td>6696.0</td>\n",
       "      <td>19248</td>\n",
       "      <td>23838</td>\n",
       "      <td>30464</td>\n",
       "      <td>45672</td>\n",
       "      <td>51281</td>\n",
       "      <td>60787</td>\n",
       "      <td>65535</td>\n",
       "      <td>65535</td>\n",
       "    </tr>\n",
       "    <tr>\n",
       "      <th>10</th>\n",
       "      <td>27.224</td>\n",
       "      <td>74.726</td>\n",
       "      <td>1022.754</td>\n",
       "      <td>0</td>\n",
       "      <td>0.543</td>\n",
       "      <td>6807.2</td>\n",
       "      <td>22790</td>\n",
       "      <td>29308</td>\n",
       "      <td>37613</td>\n",
       "      <td>54412</td>\n",
       "      <td>55380</td>\n",
       "      <td>65535</td>\n",
       "      <td>65535</td>\n",
       "      <td>65535</td>\n",
       "    </tr>\n",
       "    <tr>\n",
       "      <th>11</th>\n",
       "      <td>27.222</td>\n",
       "      <td>74.656</td>\n",
       "      <td>1022.796</td>\n",
       "      <td>0</td>\n",
       "      <td>0.543</td>\n",
       "      <td>6732.0</td>\n",
       "      <td>22282</td>\n",
       "      <td>28532</td>\n",
       "      <td>36401</td>\n",
       "      <td>53168</td>\n",
       "      <td>58189</td>\n",
       "      <td>65535</td>\n",
       "      <td>65535</td>\n",
       "      <td>65535</td>\n",
       "    </tr>\n",
       "  </tbody>\n",
       "</table>\n",
       "</div>"
      ],
      "text/plain": [
       "      temp  humidity  baro_pressure  tvoc  uv_idx     lux  violet  indigo  \\\n",
       "0   27.944    67.587       1022.257   165   0.000    92.8      69     204   \n",
       "1   28.054    67.437       1022.293   112   0.000    10.4      14      26   \n",
       "2   28.154    66.923       1022.324    74   0.000    10.4      15      25   \n",
       "3   28.238    66.826       1022.339    48   0.000    10.4      15      25   \n",
       "4   26.240    74.797       1024.256    18   0.042   516.0    3523    5029   \n",
       "5   26.093    76.153       1024.264     0   0.042   521.6    3545    5062   \n",
       "6   25.959    76.704       1024.267     0   0.125   527.2    3574    5099   \n",
       "7   25.845    77.458       1024.291     0   0.042   533.6    3606    5146   \n",
       "8   27.255    74.647       1022.757     0   0.543  6611.2   21492   26495   \n",
       "9   27.182    74.687       1022.742     0   0.543  6696.0   19248   23838   \n",
       "10  27.224    74.726       1022.754     0   0.543  6807.2   22790   29308   \n",
       "11  27.222    74.656       1022.796     0   0.543  6732.0   22282   28532   \n",
       "\n",
       "     blue   cyan  green  yellow  orange    red  \n",
       "0     205    296   1230     929    2060    364  \n",
       "1      35     46    145     192     213     59  \n",
       "2      35     46    150     195     217     60  \n",
       "3      36     47    151     197     218     60  \n",
       "4    6527   7185   6684    6420    9324  10610  \n",
       "5    6570   7247   6752    6487    9373  10723  \n",
       "6    6623   7308   6818    6555    9483  10845  \n",
       "7    6684   7380   6898    6634    9555  10980  \n",
       "8   34328  49629  48129   57125   65535  65535  \n",
       "9   30464  45672  51281   60787   65535  65535  \n",
       "10  37613  54412  55380   65535   65535  65535  \n",
       "11  36401  53168  58189   65535   65535  65535  "
      ]
     },
     "execution_count": 46,
     "metadata": {},
     "output_type": "execute_result"
    }
   ],
   "source": [
    "outside_data"
   ]
  },
  {
   "cell_type": "code",
   "execution_count": 34,
   "metadata": {},
   "outputs": [],
   "source": [
    "outside_data = outside_data.drop(columns=['DTG'], axis=1)"
   ]
  },
  {
   "cell_type": "code",
   "execution_count": 36,
   "metadata": {},
   "outputs": [],
   "source": [
    "# make predictions on the outside data\n",
    "\n",
    "new_predictions = np.argmax(model.predict(outside_data), axis=-1)"
   ]
  },
  {
   "cell_type": "code",
   "execution_count": 40,
   "metadata": {},
   "outputs": [],
   "source": [
    "final_preds = []"
   ]
  },
  {
   "cell_type": "code",
   "execution_count": 41,
   "metadata": {},
   "outputs": [],
   "source": [
    "for pred in new_predictions:\n",
    "    if pred == 0:\n",
    "        final_preds.append('water')\n",
    "    elif pred == 1:\n",
    "        final_preds.append('traffic')\n",
    "    elif pred == 2:\n",
    "        final_preds.append('subway')    "
   ]
  },
  {
   "cell_type": "code",
   "execution_count": 42,
   "metadata": {},
   "outputs": [
    {
     "name": "stdout",
     "output_type": "stream",
     "text": [
      "['water', 'water', 'water', 'water', 'traffic', 'traffic', 'traffic', 'traffic', 'traffic', 'traffic', 'traffic', 'traffic']\n"
     ]
    }
   ],
   "source": [
    "print(final_preds)"
   ]
  },
  {
   "cell_type": "code",
   "execution_count": 43,
   "metadata": {},
   "outputs": [],
   "source": [
    "actual_answers = ['subway', 'subway', 'subway', 'subway', 'water', 'water', 'water', 'water', 'traffic', 'traffic', 'traffic', 'traffic']"
   ]
  },
  {
   "cell_type": "code",
   "execution_count": 44,
   "metadata": {},
   "outputs": [
    {
     "data": {
      "text/plain": [
       "['subway',\n",
       " 'subway',\n",
       " 'subway',\n",
       " 'subway',\n",
       " 'water',\n",
       " 'water',\n",
       " 'water',\n",
       " 'water',\n",
       " 'traffic',\n",
       " 'traffic',\n",
       " 'traffic',\n",
       " 'traffic']"
      ]
     },
     "execution_count": 44,
     "metadata": {},
     "output_type": "execute_result"
    }
   ],
   "source": [
    "actual_answers"
   ]
  },
  {
   "cell_type": "code",
   "execution_count": null,
   "metadata": {},
   "outputs": [],
   "source": []
  }
 ],
 "metadata": {
  "kernelspec": {
   "display_name": "Python 3",
   "language": "python",
   "name": "python3"
  },
  "language_info": {
   "codemirror_mode": {
    "name": "ipython",
    "version": 3
   },
   "file_extension": ".py",
   "mimetype": "text/x-python",
   "name": "python",
   "nbconvert_exporter": "python",
   "pygments_lexer": "ipython3",
   "version": "3.8.5"
  }
 },
 "nbformat": 4,
 "nbformat_minor": 4
}
