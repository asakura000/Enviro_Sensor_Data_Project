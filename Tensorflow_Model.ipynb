{
 "cells": [
  {
   "cell_type": "code",
   "execution_count": 1,
   "metadata": {},
   "outputs": [],
   "source": [
    "import pandas as pd \n",
    "import numpy as np\n",
    "\n",
    "import matplotlib.pyplot as plt\n",
    "import seaborn as sns\n",
    "\n",
    "from tensorflow.keras.models import Sequential\n",
    "from tensorflow.keras.layers import Dense\n",
    "from tensorflow.keras.wrappers.scikit_learn import KerasClassifier\n",
    "import tensorflow.keras.utils as utils\n",
    "from sklearn.model_selection import cross_val_score\n",
    "from sklearn.model_selection import train_test_split\n",
    "from sklearn.model_selection import KFold\n",
    "from sklearn.preprocessing import LabelEncoder\n",
    "from sklearn.pipeline import Pipeline\n",
    "from sklearn.datasets import make_classification\n",
    "from sklearn.preprocessing import MinMaxScaler\n",
    "from sklearn.metrics import classification_report,confusion_matrix"
   ]
  },
  {
   "cell_type": "code",
   "execution_count": 2,
   "metadata": {},
   "outputs": [],
   "source": [
    "# read in CSV files, add column labels \n",
    "\n",
    "df = pd.read_csv('enviro_data.csv', names=['DTG', 'temp', 'humidity', 'baro_pressure', 'co_2', 'tvoc', 'uv_raw', \n",
    "                                           'amb_raw', 'uv_idx', 'lux','violet', 'indigo', 'blue', 'cyan', 'green', \n",
    "                                           'yellow', 'orange', 'red', 'loc_class'])"
   ]
  },
  {
   "cell_type": "code",
   "execution_count": 3,
   "metadata": {},
   "outputs": [
    {
     "data": {
      "text/html": [
       "<div>\n",
       "<style scoped>\n",
       "    .dataframe tbody tr th:only-of-type {\n",
       "        vertical-align: middle;\n",
       "    }\n",
       "\n",
       "    .dataframe tbody tr th {\n",
       "        vertical-align: top;\n",
       "    }\n",
       "\n",
       "    .dataframe thead th {\n",
       "        text-align: right;\n",
       "    }\n",
       "</style>\n",
       "<table border=\"1\" class=\"dataframe\">\n",
       "  <thead>\n",
       "    <tr style=\"text-align: right;\">\n",
       "      <th></th>\n",
       "      <th>DTG</th>\n",
       "      <th>temp</th>\n",
       "      <th>humidity</th>\n",
       "      <th>baro_pressure</th>\n",
       "      <th>co_2</th>\n",
       "      <th>tvoc</th>\n",
       "      <th>uv_raw</th>\n",
       "      <th>amb_raw</th>\n",
       "      <th>uv_idx</th>\n",
       "      <th>lux</th>\n",
       "      <th>violet</th>\n",
       "      <th>indigo</th>\n",
       "      <th>blue</th>\n",
       "      <th>cyan</th>\n",
       "      <th>green</th>\n",
       "      <th>yellow</th>\n",
       "      <th>orange</th>\n",
       "      <th>red</th>\n",
       "      <th>loc_class</th>\n",
       "    </tr>\n",
       "  </thead>\n",
       "  <tbody>\n",
       "    <tr>\n",
       "      <th>0</th>\n",
       "      <td>2021-08-04 10:57:52</td>\n",
       "      <td>28.568</td>\n",
       "      <td>42.925</td>\n",
       "      <td>1020.728</td>\n",
       "      <td>400</td>\n",
       "      <td>0</td>\n",
       "      <td>98</td>\n",
       "      <td>59186</td>\n",
       "      <td>4.090</td>\n",
       "      <td>47338.4</td>\n",
       "      <td>65535</td>\n",
       "      <td>65535</td>\n",
       "      <td>65535</td>\n",
       "      <td>65535</td>\n",
       "      <td>65535</td>\n",
       "      <td>65535</td>\n",
       "      <td>65535</td>\n",
       "      <td>65535</td>\n",
       "      <td>blue</td>\n",
       "    </tr>\n",
       "    <tr>\n",
       "      <th>1</th>\n",
       "      <td>2021-08-04 10:57:54</td>\n",
       "      <td>28.612</td>\n",
       "      <td>42.682</td>\n",
       "      <td>1020.742</td>\n",
       "      <td>400</td>\n",
       "      <td>0</td>\n",
       "      <td>99</td>\n",
       "      <td>59865</td>\n",
       "      <td>4.132</td>\n",
       "      <td>47916.8</td>\n",
       "      <td>65535</td>\n",
       "      <td>65535</td>\n",
       "      <td>65535</td>\n",
       "      <td>65535</td>\n",
       "      <td>65535</td>\n",
       "      <td>65535</td>\n",
       "      <td>65535</td>\n",
       "      <td>65535</td>\n",
       "      <td>blue</td>\n",
       "    </tr>\n",
       "    <tr>\n",
       "      <th>2</th>\n",
       "      <td>2021-08-04 10:57:56</td>\n",
       "      <td>28.619</td>\n",
       "      <td>42.151</td>\n",
       "      <td>1020.720</td>\n",
       "      <td>400</td>\n",
       "      <td>0</td>\n",
       "      <td>99</td>\n",
       "      <td>60124</td>\n",
       "      <td>4.216</td>\n",
       "      <td>48069.6</td>\n",
       "      <td>65535</td>\n",
       "      <td>65535</td>\n",
       "      <td>65535</td>\n",
       "      <td>65535</td>\n",
       "      <td>65535</td>\n",
       "      <td>65535</td>\n",
       "      <td>65535</td>\n",
       "      <td>65535</td>\n",
       "      <td>blue</td>\n",
       "    </tr>\n",
       "    <tr>\n",
       "      <th>3</th>\n",
       "      <td>2021-08-04 10:57:58</td>\n",
       "      <td>28.595</td>\n",
       "      <td>41.746</td>\n",
       "      <td>1020.713</td>\n",
       "      <td>400</td>\n",
       "      <td>0</td>\n",
       "      <td>99</td>\n",
       "      <td>59416</td>\n",
       "      <td>4.090</td>\n",
       "      <td>46434.4</td>\n",
       "      <td>65535</td>\n",
       "      <td>65535</td>\n",
       "      <td>65535</td>\n",
       "      <td>65535</td>\n",
       "      <td>65535</td>\n",
       "      <td>65535</td>\n",
       "      <td>65535</td>\n",
       "      <td>65535</td>\n",
       "      <td>blue</td>\n",
       "    </tr>\n",
       "    <tr>\n",
       "      <th>4</th>\n",
       "      <td>2021-08-04 10:58:00</td>\n",
       "      <td>28.629</td>\n",
       "      <td>41.451</td>\n",
       "      <td>1020.549</td>\n",
       "      <td>400</td>\n",
       "      <td>0</td>\n",
       "      <td>54</td>\n",
       "      <td>27978</td>\n",
       "      <td>2.254</td>\n",
       "      <td>23488.8</td>\n",
       "      <td>56330</td>\n",
       "      <td>65535</td>\n",
       "      <td>65535</td>\n",
       "      <td>65535</td>\n",
       "      <td>65535</td>\n",
       "      <td>65535</td>\n",
       "      <td>65535</td>\n",
       "      <td>65535</td>\n",
       "      <td>blue</td>\n",
       "    </tr>\n",
       "  </tbody>\n",
       "</table>\n",
       "</div>"
      ],
      "text/plain": [
       "                   DTG    temp  humidity  baro_pressure  co_2  tvoc  uv_raw  \\\n",
       "0  2021-08-04 10:57:52  28.568    42.925       1020.728   400     0      98   \n",
       "1  2021-08-04 10:57:54  28.612    42.682       1020.742   400     0      99   \n",
       "2  2021-08-04 10:57:56  28.619    42.151       1020.720   400     0      99   \n",
       "3  2021-08-04 10:57:58  28.595    41.746       1020.713   400     0      99   \n",
       "4  2021-08-04 10:58:00  28.629    41.451       1020.549   400     0      54   \n",
       "\n",
       "   amb_raw  uv_idx      lux  violet  indigo   blue   cyan  green  yellow  \\\n",
       "0    59186   4.090  47338.4   65535   65535  65535  65535  65535   65535   \n",
       "1    59865   4.132  47916.8   65535   65535  65535  65535  65535   65535   \n",
       "2    60124   4.216  48069.6   65535   65535  65535  65535  65535   65535   \n",
       "3    59416   4.090  46434.4   65535   65535  65535  65535  65535   65535   \n",
       "4    27978   2.254  23488.8   56330   65535  65535  65535  65535   65535   \n",
       "\n",
       "   orange    red loc_class  \n",
       "0   65535  65535      blue  \n",
       "1   65535  65535      blue  \n",
       "2   65535  65535      blue  \n",
       "3   65535  65535      blue  \n",
       "4   65535  65535      blue  "
      ]
     },
     "execution_count": 3,
     "metadata": {},
     "output_type": "execute_result"
    }
   ],
   "source": [
    "df.head()"
   ]
  },
  {
   "cell_type": "code",
   "execution_count": 4,
   "metadata": {},
   "outputs": [],
   "source": [
    "# based on previous EDA, identify columns that are either:\n",
    "# 1) not helpful (co2 -> all the same values, uv_raw and amb_raw -> just used to derive uv index and lux)\n",
    "# 2) inaccruate (all of the DTG data was off)\n",
    "\n",
    "df = df.drop(columns=['DTG', 'co_2', 'uv_raw', 'amb_raw'], axis=1)"
   ]
  },
  {
   "cell_type": "code",
   "execution_count": 5,
   "metadata": {},
   "outputs": [
    {
     "data": {
      "text/plain": [
       "Index(['temp', 'humidity', 'baro_pressure', 'tvoc', 'uv_idx', 'lux', 'violet',\n",
       "       'indigo', 'blue', 'cyan', 'green', 'yellow', 'orange', 'red',\n",
       "       'loc_class'],\n",
       "      dtype='object')"
      ]
     },
     "execution_count": 5,
     "metadata": {},
     "output_type": "execute_result"
    }
   ],
   "source": [
    "df.columns"
   ]
  },
  {
   "cell_type": "code",
   "execution_count": 6,
   "metadata": {},
   "outputs": [],
   "source": [
    "# may need this later to decode the results \n",
    "\n",
    "labels = df['loc_class']"
   ]
  },
  {
   "cell_type": "code",
   "execution_count": 22,
   "metadata": {},
   "outputs": [],
   "source": [
    "# identify my independent and dependent variables\n",
    "\n",
    "dataset = df.values\n",
    "X = dataset[:,0:14].astype(float)\n",
    "y = dataset[:,14]"
   ]
  },
  {
   "cell_type": "code",
   "execution_count": 23,
   "metadata": {},
   "outputs": [
    {
     "data": {
      "text/plain": [
       "(array(['blue', 'green', 'yellow'], dtype=object), array([2331, 2334, 2398]))"
      ]
     },
     "execution_count": 23,
     "metadata": {},
     "output_type": "execute_result"
    }
   ],
   "source": [
    "np.unique(y, return_counts=True)"
   ]
  },
  {
   "cell_type": "code",
   "execution_count": 24,
   "metadata": {},
   "outputs": [],
   "source": [
    "# encode class values as integers\n",
    "\n",
    "encoder = LabelEncoder()\n",
    "encoder.fit(y)\n",
    "encoded_y = encoder.transform(y)"
   ]
  },
  {
   "cell_type": "code",
   "execution_count": 25,
   "metadata": {},
   "outputs": [],
   "source": [
    "# convert integers to dummy variables (i.e. one hot encoded)\n",
    "\n",
    "y = utils.to_categorical(encoded_y)"
   ]
  },
  {
   "cell_type": "code",
   "execution_count": 30,
   "metadata": {},
   "outputs": [
    {
     "data": {
      "text/plain": [
       "array([2331., 2334., 2398.], dtype=float32)"
      ]
     },
     "execution_count": 30,
     "metadata": {},
     "output_type": "execute_result"
    }
   ],
   "source": [
    "# [blue, green, yellow]\n",
    "np.sum(y, axis=0) "
   ]
  },
  {
   "cell_type": "code",
   "execution_count": 31,
   "metadata": {},
   "outputs": [],
   "source": [
    "# model function\n",
    "\n",
    "def my_model():\n",
    "\t# create model\n",
    "\tmodel = Sequential()\n",
    "\tmodel.add(Dense(28, input_dim=14, activation='relu'))\n",
    "\tmodel.add(Dense(3, activation='softmax'))\n",
    "\t# Compile model\n",
    "\tmodel.compile(loss='categorical_crossentropy', optimizer='adam', metrics=['accuracy'])\n",
    "\treturn model\n"
   ]
  },
  {
   "cell_type": "code",
   "execution_count": 32,
   "metadata": {},
   "outputs": [],
   "source": [
    "# define a scaler variable so I can scale the data for better results\n",
    "\n",
    "scaler = MinMaxScaler()"
   ]
  },
  {
   "cell_type": "code",
   "execution_count": 33,
   "metadata": {},
   "outputs": [],
   "source": [
    "# train, test, split\n",
    "\n",
    "X_train, X_test, y_train, y_test = train_test_split(X, y, test_size=0.2, random_state=42)"
   ]
  },
  {
   "cell_type": "code",
   "execution_count": 34,
   "metadata": {},
   "outputs": [],
   "source": [
    "# fit the scaler on the training dataset only and then transform it\n",
    "\n",
    "X_train = scaler.fit_transform(X_train)"
   ]
  },
  {
   "cell_type": "code",
   "execution_count": 35,
   "metadata": {},
   "outputs": [],
   "source": [
    "# transform the test dataset to scale\n",
    "\n",
    "X_test = scaler.transform(X_test)"
   ]
  },
  {
   "cell_type": "code",
   "execution_count": 36,
   "metadata": {},
   "outputs": [
    {
     "data": {
      "text/plain": [
       "array([459., 466., 488.], dtype=float32)"
      ]
     },
     "execution_count": 36,
     "metadata": {},
     "output_type": "execute_result"
    }
   ],
   "source": [
    "np.sum(y_test, axis=0)"
   ]
  },
  {
   "cell_type": "code",
   "execution_count": 37,
   "metadata": {},
   "outputs": [],
   "source": [
    "# create my model\n",
    "\n",
    "model = my_model()"
   ]
  },
  {
   "cell_type": "code",
   "execution_count": 40,
   "metadata": {
    "scrolled": true
   },
   "outputs": [
    {
     "name": "stdout",
     "output_type": "stream",
     "text": [
      "Epoch 1/100\n",
      "1413/1413 [==============================] - 1s 516us/step - loss: 0.0517 - accuracy: 0.9839\n",
      "Epoch 2/100\n",
      "1413/1413 [==============================] - 1s 498us/step - loss: 0.0496 - accuracy: 0.9851\n",
      "Epoch 3/100\n",
      "1413/1413 [==============================] - 1s 491us/step - loss: 0.0473 - accuracy: 0.9864\n",
      "Epoch 4/100\n",
      "1413/1413 [==============================] - 1s 489us/step - loss: 0.0461 - accuracy: 0.9865\n",
      "Epoch 5/100\n",
      "1413/1413 [==============================] - 1s 495us/step - loss: 0.0462 - accuracy: 0.9851\n",
      "Epoch 6/100\n",
      "1413/1413 [==============================] - 1s 490us/step - loss: 0.0436 - accuracy: 0.9860\n",
      "Epoch 7/100\n",
      "1413/1413 [==============================] - 1s 490us/step - loss: 0.0423 - accuracy: 0.9876\n",
      "Epoch 8/100\n",
      "1413/1413 [==============================] - 1s 489us/step - loss: 0.0424 - accuracy: 0.9846\n",
      "Epoch 9/100\n",
      "1413/1413 [==============================] - 1s 494us/step - loss: 0.0402 - accuracy: 0.9865\n",
      "Epoch 10/100\n",
      "1413/1413 [==============================] - 1s 491us/step - loss: 0.0384 - accuracy: 0.9880\n",
      "Epoch 11/100\n",
      "1413/1413 [==============================] - 1s 607us/step - loss: 0.0387 - accuracy: 0.9871\n",
      "Epoch 12/100\n",
      "1413/1413 [==============================] - 1s 496us/step - loss: 0.0391 - accuracy: 0.9862\n",
      "Epoch 13/100\n",
      "1413/1413 [==============================] - 1s 491us/step - loss: 0.0364 - accuracy: 0.9867\n",
      "Epoch 14/100\n",
      "1413/1413 [==============================] - 1s 491us/step - loss: 0.0358 - accuracy: 0.9871\n",
      "Epoch 15/100\n",
      "1413/1413 [==============================] - 1s 492us/step - loss: 0.0360 - accuracy: 0.9881\n",
      "Epoch 16/100\n",
      "1413/1413 [==============================] - 1s 491us/step - loss: 0.0349 - accuracy: 0.9888\n",
      "Epoch 17/100\n",
      "1413/1413 [==============================] - 1s 493us/step - loss: 0.0328 - accuracy: 0.9881\n",
      "Epoch 18/100\n",
      "1413/1413 [==============================] - 1s 492us/step - loss: 0.0335 - accuracy: 0.9892\n",
      "Epoch 19/100\n",
      "1413/1413 [==============================] - 1s 499us/step - loss: 0.0327 - accuracy: 0.9883\n",
      "Epoch 20/100\n",
      "1413/1413 [==============================] - 1s 537us/step - loss: 0.0320 - accuracy: 0.9881\n",
      "Epoch 21/100\n",
      "1413/1413 [==============================] - 1s 588us/step - loss: 0.0317 - accuracy: 0.9894\n",
      "Epoch 22/100\n",
      "1413/1413 [==============================] - 1s 513us/step - loss: 0.0323 - accuracy: 0.9890\n",
      "Epoch 23/100\n",
      "1413/1413 [==============================] - 1s 527us/step - loss: 0.0316 - accuracy: 0.9887\n",
      "Epoch 24/100\n",
      "1413/1413 [==============================] - 1s 570us/step - loss: 0.0305 - accuracy: 0.9894\n",
      "Epoch 25/100\n",
      "1413/1413 [==============================] - 1s 578us/step - loss: 0.0296 - accuracy: 0.9901\n",
      "Epoch 26/100\n",
      "1413/1413 [==============================] - 1s 528us/step - loss: 0.0268 - accuracy: 0.9904\n",
      "Epoch 27/100\n",
      "1413/1413 [==============================] - 1s 494us/step - loss: 0.0279 - accuracy: 0.9910\n",
      "Epoch 28/100\n",
      "1413/1413 [==============================] - 1s 490us/step - loss: 0.0282 - accuracy: 0.9903\n",
      "Epoch 29/100\n",
      "1413/1413 [==============================] - 1s 492us/step - loss: 0.0256 - accuracy: 0.9924\n",
      "Epoch 30/100\n",
      "1413/1413 [==============================] - 1s 491us/step - loss: 0.0267 - accuracy: 0.9910\n",
      "Epoch 31/100\n",
      "1413/1413 [==============================] - 1s 498us/step - loss: 0.0254 - accuracy: 0.9915\n",
      "Epoch 32/100\n",
      "1413/1413 [==============================] - 1s 543us/step - loss: 0.0259 - accuracy: 0.9906\n",
      "Epoch 33/100\n",
      "1413/1413 [==============================] - 1s 641us/step - loss: 0.0260 - accuracy: 0.9897\n",
      "Epoch 34/100\n",
      "1413/1413 [==============================] - 1s 537us/step - loss: 0.0242 - accuracy: 0.9926\n",
      "Epoch 35/100\n",
      "1413/1413 [==============================] - 1s 532us/step - loss: 0.0238 - accuracy: 0.9922\n",
      "Epoch 36/100\n",
      "1413/1413 [==============================] - 1s 491us/step - loss: 0.0244 - accuracy: 0.9933\n",
      "Epoch 37/100\n",
      "1413/1413 [==============================] - 1s 493us/step - loss: 0.0223 - accuracy: 0.9938\n",
      "Epoch 38/100\n",
      "1413/1413 [==============================] - 1s 493us/step - loss: 0.0238 - accuracy: 0.9922\n",
      "Epoch 39/100\n",
      "1413/1413 [==============================] - 1s 504us/step - loss: 0.0221 - accuracy: 0.9926\n",
      "Epoch 40/100\n",
      "1413/1413 [==============================] - 1s 566us/step - loss: 0.0234 - accuracy: 0.9910\n",
      "Epoch 41/100\n",
      "1413/1413 [==============================] - 1s 595us/step - loss: 0.0216 - accuracy: 0.9929\n",
      "Epoch 42/100\n",
      "1413/1413 [==============================] - 1s 546us/step - loss: 0.0216 - accuracy: 0.9931\n",
      "Epoch 43/100\n",
      "1413/1413 [==============================] - 1s 554us/step - loss: 0.0192 - accuracy: 0.9947\n",
      "Epoch 44/100\n",
      "1413/1413 [==============================] - 1s 547us/step - loss: 0.0193 - accuracy: 0.9947\n",
      "Epoch 45/100\n",
      "1413/1413 [==============================] - 1s 550us/step - loss: 0.0191 - accuracy: 0.9947\n",
      "Epoch 46/100\n",
      "1413/1413 [==============================] - 1s 553us/step - loss: 0.0189 - accuracy: 0.9938\n",
      "Epoch 47/100\n",
      "1413/1413 [==============================] - 1s 534us/step - loss: 0.0184 - accuracy: 0.9952\n",
      "Epoch 48/100\n",
      "1413/1413 [==============================] - 1s 506us/step - loss: 0.0172 - accuracy: 0.9954\n",
      "Epoch 49/100\n",
      "1413/1413 [==============================] - 1s 512us/step - loss: 0.0184 - accuracy: 0.9945\n",
      "Epoch 50/100\n",
      "1413/1413 [==============================] - 1s 523us/step - loss: 0.0171 - accuracy: 0.9952\n",
      "Epoch 51/100\n",
      "1413/1413 [==============================] - 1s 539us/step - loss: 0.0177 - accuracy: 0.9947\n",
      "Epoch 52/100\n",
      "1413/1413 [==============================] - 1s 497us/step - loss: 0.0151 - accuracy: 0.9959\n",
      "Epoch 53/100\n",
      "1413/1413 [==============================] - 1s 492us/step - loss: 0.0167 - accuracy: 0.9963\n",
      "Epoch 54/100\n",
      "1413/1413 [==============================] - 1s 538us/step - loss: 0.0171 - accuracy: 0.9954\n",
      "Epoch 55/100\n",
      "1413/1413 [==============================] - 1s 519us/step - loss: 0.0158 - accuracy: 0.9959\n",
      "Epoch 56/100\n",
      "1413/1413 [==============================] - 1s 567us/step - loss: 0.0151 - accuracy: 0.9963\n",
      "Epoch 57/100\n",
      "1413/1413 [==============================] - 1s 669us/step - loss: 0.0154 - accuracy: 0.9959\n",
      "Epoch 58/100\n",
      "1413/1413 [==============================] - 1s 551us/step - loss: 0.0152 - accuracy: 0.9949\n",
      "Epoch 59/100\n",
      "1413/1413 [==============================] - 1s 549us/step - loss: 0.0146 - accuracy: 0.9965\n",
      "Epoch 60/100\n",
      "1413/1413 [==============================] - 1s 494us/step - loss: 0.0149 - accuracy: 0.9947\n",
      "Epoch 61/100\n",
      "1413/1413 [==============================] - 1s 492us/step - loss: 0.0139 - accuracy: 0.9972\n",
      "Epoch 62/100\n",
      "1413/1413 [==============================] - 1s 491us/step - loss: 0.0145 - accuracy: 0.9959\n",
      "Epoch 63/100\n",
      "1413/1413 [==============================] - 1s 512us/step - loss: 0.0136 - accuracy: 0.9966\n",
      "Epoch 64/100\n",
      "1413/1413 [==============================] - 1s 488us/step - loss: 0.0144 - accuracy: 0.9958\n",
      "Epoch 65/100\n",
      "1413/1413 [==============================] - 1s 525us/step - loss: 0.0129 - accuracy: 0.9968\n",
      "Epoch 66/100\n",
      "1413/1413 [==============================] - 1s 492us/step - loss: 0.0139 - accuracy: 0.9961\n",
      "Epoch 67/100\n",
      "1413/1413 [==============================] - 1s 519us/step - loss: 0.0130 - accuracy: 0.9968\n",
      "Epoch 68/100\n",
      "1413/1413 [==============================] - 1s 574us/step - loss: 0.0118 - accuracy: 0.9977\n",
      "Epoch 69/100\n",
      "1413/1413 [==============================] - 1s 492us/step - loss: 0.0123 - accuracy: 0.9973\n",
      "Epoch 70/100\n",
      "1413/1413 [==============================] - 1s 496us/step - loss: 0.0130 - accuracy: 0.9965\n",
      "Epoch 71/100\n",
      "1413/1413 [==============================] - 1s 492us/step - loss: 0.0118 - accuracy: 0.9975\n",
      "Epoch 72/100\n",
      "1413/1413 [==============================] - 1s 494us/step - loss: 0.0110 - accuracy: 0.9973\n",
      "Epoch 73/100\n",
      "1413/1413 [==============================] - 1s 522us/step - loss: 0.0110 - accuracy: 0.9973\n",
      "Epoch 74/100\n",
      "1413/1413 [==============================] - 1s 588us/step - loss: 0.0118 - accuracy: 0.9981\n",
      "Epoch 75/100\n",
      "1413/1413 [==============================] - 1s 528us/step - loss: 0.0112 - accuracy: 0.9975\n",
      "Epoch 76/100\n",
      "1413/1413 [==============================] - 1s 526us/step - loss: 0.0113 - accuracy: 0.9968\n",
      "Epoch 77/100\n",
      "1413/1413 [==============================] - 1s 495us/step - loss: 0.0114 - accuracy: 0.9970\n",
      "Epoch 78/100\n",
      "1413/1413 [==============================] - 1s 492us/step - loss: 0.0097 - accuracy: 0.9989\n",
      "Epoch 79/100\n",
      "1413/1413 [==============================] - 1s 522us/step - loss: 0.0099 - accuracy: 0.9977\n",
      "Epoch 80/100\n",
      "1413/1413 [==============================] - 1s 593us/step - loss: 0.0102 - accuracy: 0.9973\n",
      "Epoch 81/100\n",
      "1413/1413 [==============================] - 1s 535us/step - loss: 0.0095 - accuracy: 0.9984\n",
      "Epoch 82/100\n",
      "1413/1413 [==============================] - 1s 508us/step - loss: 0.0103 - accuracy: 0.9982\n",
      "Epoch 83/100\n",
      "1413/1413 [==============================] - 1s 491us/step - loss: 0.0112 - accuracy: 0.9973\n",
      "Epoch 84/100\n",
      "1413/1413 [==============================] - 1s 529us/step - loss: 0.0094 - accuracy: 0.9981\n",
      "Epoch 85/100\n",
      "1413/1413 [==============================] - 1s 495us/step - loss: 0.0093 - accuracy: 0.9984\n",
      "Epoch 86/100\n",
      "1413/1413 [==============================] - 1s 504us/step - loss: 0.0091 - accuracy: 0.9979\n",
      "Epoch 87/100\n",
      "1413/1413 [==============================] - 1s 524us/step - loss: 0.0106 - accuracy: 0.9982\n",
      "Epoch 88/100\n",
      "1413/1413 [==============================] - 1s 491us/step - loss: 0.0102 - accuracy: 0.9979\n",
      "Epoch 89/100\n",
      "1413/1413 [==============================] - 1s 499us/step - loss: 0.0083 - accuracy: 0.9988\n",
      "Epoch 90/100\n",
      "1413/1413 [==============================] - 1s 500us/step - loss: 0.0108 - accuracy: 0.9975\n",
      "Epoch 91/100\n",
      "1413/1413 [==============================] - 1s 495us/step - loss: 0.0081 - accuracy: 0.9989\n",
      "Epoch 92/100\n",
      "1413/1413 [==============================] - 1s 545us/step - loss: 0.0095 - accuracy: 0.9981\n",
      "Epoch 93/100\n",
      "1413/1413 [==============================] - 1s 505us/step - loss: 0.0087 - accuracy: 0.9981\n",
      "Epoch 94/100\n",
      "1413/1413 [==============================] - 1s 520us/step - loss: 0.0079 - accuracy: 0.9989\n",
      "Epoch 95/100\n",
      "1413/1413 [==============================] - 1s 508us/step - loss: 0.0083 - accuracy: 0.9984\n",
      "Epoch 96/100\n",
      "1413/1413 [==============================] - 1s 524us/step - loss: 0.0098 - accuracy: 0.9982\n",
      "Epoch 97/100\n",
      "1413/1413 [==============================] - 1s 493us/step - loss: 0.0074 - accuracy: 0.9988\n",
      "Epoch 98/100\n",
      "1413/1413 [==============================] - 1s 510us/step - loss: 0.0081 - accuracy: 0.9986\n",
      "Epoch 99/100\n",
      "1413/1413 [==============================] - 1s 550us/step - loss: 0.0074 - accuracy: 0.9988\n",
      "Epoch 100/100\n",
      "1413/1413 [==============================] - 1s 489us/step - loss: 0.0082 - accuracy: 0.9984\n"
     ]
    },
    {
     "data": {
      "text/plain": [
       "<tensorflow.python.keras.callbacks.History at 0x7ffe4911f070>"
      ]
     },
     "execution_count": 40,
     "metadata": {},
     "output_type": "execute_result"
    }
   ],
   "source": [
    "# fit my model\n",
    "\n",
    "model.fit(X_train, y_train, epochs=10, batch_size=4, verbose=1)"
   ]
  },
  {
   "cell_type": "code",
   "execution_count": 41,
   "metadata": {},
   "outputs": [],
   "source": [
    "# turn my loss data into a datafram so I can graph it and see trends\n",
    "\n",
    "loss = pd.DataFrame(model.history.history)"
   ]
  },
  {
   "cell_type": "code",
   "execution_count": 42,
   "metadata": {},
   "outputs": [
    {
     "data": {
      "text/plain": [
       "<AxesSubplot:>"
      ]
     },
     "execution_count": 42,
     "metadata": {},
     "output_type": "execute_result"
    },
    {
     "data": {
      "image/png": "[encoded data removed]",
      "text/plain": [
       "<Figure size 432x288 with 1 Axes>"
      ]
     },
     "metadata": {
      "needs_background": "light"
     },
     "output_type": "display_data"
    }
   ],
   "source": [
    "loss.plot()"
   ]
  },
  {
   "cell_type": "code",
   "execution_count": 43,
   "metadata": {},
   "outputs": [],
   "source": [
    "# make predictions \n",
    "# predictions = model.predict_classes(X_test)\n",
    "\n",
    "predictions = np.argmax(model.predict(X_test), axis=-1)"
   ]
  },
  {
   "cell_type": "code",
   "execution_count": 44,
   "metadata": {},
   "outputs": [
    {
     "data": {
      "text/plain": [
       "array([0, 2, 2, ..., 0, 1, 1])"
      ]
     },
     "execution_count": 44,
     "metadata": {},
     "output_type": "execute_result"
    }
   ],
   "source": [
    "predictions"
   ]
  },
  {
   "cell_type": "code",
   "execution_count": 45,
   "metadata": {},
   "outputs": [
    {
     "data": {
      "text/plain": [
       "numpy.ndarray"
      ]
     },
     "execution_count": 45,
     "metadata": {},
     "output_type": "execute_result"
    }
   ],
   "source": [
    "type(predictions)"
   ]
  },
  {
   "cell_type": "code",
   "execution_count": 46,
   "metadata": {},
   "outputs": [
    {
     "data": {
      "text/plain": [
       "array([[1., 0., 0.],\n",
       "       [0., 0., 1.],\n",
       "       [0., 0., 1.],\n",
       "       ...,\n",
       "       [1., 0., 0.],\n",
       "       [0., 1., 0.],\n",
       "       [0., 1., 0.]], dtype=float32)"
      ]
     },
     "execution_count": 46,
     "metadata": {},
     "output_type": "execute_result"
    }
   ],
   "source": [
    "y_test"
   ]
  },
  {
   "cell_type": "code",
   "execution_count": 47,
   "metadata": {},
   "outputs": [
    {
     "data": {
      "text/plain": [
       "numpy.float32"
      ]
     },
     "execution_count": 47,
     "metadata": {},
     "output_type": "execute_result"
    }
   ],
   "source": [
    "type(y_test[0][0])"
   ]
  },
  {
   "cell_type": "code",
   "execution_count": 48,
   "metadata": {},
   "outputs": [
    {
     "data": {
      "text/plain": [
       "array([[1, 0, 0],\n",
       "       [0, 0, 1],\n",
       "       [0, 0, 1],\n",
       "       ...,\n",
       "       [1, 0, 0],\n",
       "       [0, 1, 0],\n",
       "       [0, 1, 0]])"
      ]
     },
     "execution_count": 48,
     "metadata": {},
     "output_type": "execute_result"
    }
   ],
   "source": [
    "y_test.astype(int)"
   ]
  },
  {
   "cell_type": "code",
   "execution_count": 49,
   "metadata": {},
   "outputs": [],
   "source": [
    "# function so I can easily compare the true Y values with the predictions\n",
    "# the true y values are in a numpy array format, so I am converting it to integers that match the predictions format\n",
    "\n",
    "def convert_to_int(some_array):\n",
    "    true_values = []\n",
    "    for val in some_array:\n",
    "        if val[0] == 1:\n",
    "            true_values.append(0)\n",
    "        elif val[1] == 1:\n",
    "            true_values.append(1)\n",
    "        elif val[2] == 1:\n",
    "            true_values.append(2)\n",
    "    \n",
    "    return true_values\n"
   ]
  },
  {
   "cell_type": "code",
   "execution_count": 50,
   "metadata": {},
   "outputs": [],
   "source": [
    "# apply my convert function to the true y values\n",
    "\n",
    "true_y = convert_to_int(y_test)"
   ]
  },
  {
   "cell_type": "code",
   "execution_count": 51,
   "metadata": {},
   "outputs": [],
   "source": [
    "# convert predictions np array into a dataframe\n",
    "\n",
    "predictions = pd.DataFrame(predictions)"
   ]
  },
  {
   "cell_type": "code",
   "execution_count": 52,
   "metadata": {},
   "outputs": [
    {
     "name": "stdout",
     "output_type": "stream",
     "text": [
      "blue\n"
     ]
    }
   ],
   "source": [
    "# reverse encoding\n",
    "for pred in predictions:\n",
    "    print(labels[pred])"
   ]
  },
  {
   "cell_type": "code",
   "execution_count": 53,
   "metadata": {},
   "outputs": [],
   "source": [
    "# convert the (modified) true y values to a dataframe\n",
    "\n",
    "true_y = pd.DataFrame(true_y)"
   ]
  },
  {
   "cell_type": "code",
   "execution_count": 54,
   "metadata": {},
   "outputs": [],
   "source": [
    "# this step makes it easier to concatenate the predictions and the true y values into one dataframe?\n",
    "\n",
    "both = [predictions, true_y]"
   ]
  },
  {
   "cell_type": "code",
   "execution_count": 55,
   "metadata": {},
   "outputs": [],
   "source": [
    "# concatenate the true y values and the predictions into one dataframe\n",
    "\n",
    "results = pd.concat(both, axis=1)"
   ]
  },
  {
   "cell_type": "code",
   "execution_count": 56,
   "metadata": {},
   "outputs": [
    {
     "data": {
      "text/plain": [
       "Int64Index([0, 0], dtype='int64')"
      ]
     },
     "execution_count": 56,
     "metadata": {},
     "output_type": "execute_result"
    }
   ],
   "source": [
    "results.columns"
   ]
  },
  {
   "cell_type": "code",
   "execution_count": 57,
   "metadata": {},
   "outputs": [],
   "source": [
    "# set the column names for the results dataframe\n",
    "\n",
    "results.columns=['Predictions', 'True Values']"
   ]
  },
  {
   "cell_type": "code",
   "execution_count": 58,
   "metadata": {},
   "outputs": [
    {
     "data": {
      "text/html": [
       "<div>\n",
       "<style scoped>\n",
       "    .dataframe tbody tr th:only-of-type {\n",
       "        vertical-align: middle;\n",
       "    }\n",
       "\n",
       "    .dataframe tbody tr th {\n",
       "        vertical-align: top;\n",
       "    }\n",
       "\n",
       "    .dataframe thead th {\n",
       "        text-align: right;\n",
       "    }\n",
       "</style>\n",
       "<table border=\"1\" class=\"dataframe\">\n",
       "  <thead>\n",
       "    <tr style=\"text-align: right;\">\n",
       "      <th></th>\n",
       "      <th>Predictions</th>\n",
       "      <th>True Values</th>\n",
       "    </tr>\n",
       "  </thead>\n",
       "  <tbody>\n",
       "    <tr>\n",
       "      <th>0</th>\n",
       "      <td>0</td>\n",
       "      <td>0</td>\n",
       "    </tr>\n",
       "    <tr>\n",
       "      <th>1</th>\n",
       "      <td>2</td>\n",
       "      <td>2</td>\n",
       "    </tr>\n",
       "    <tr>\n",
       "      <th>2</th>\n",
       "      <td>2</td>\n",
       "      <td>2</td>\n",
       "    </tr>\n",
       "    <tr>\n",
       "      <th>3</th>\n",
       "      <td>1</td>\n",
       "      <td>1</td>\n",
       "    </tr>\n",
       "    <tr>\n",
       "      <th>4</th>\n",
       "      <td>2</td>\n",
       "      <td>2</td>\n",
       "    </tr>\n",
       "  </tbody>\n",
       "</table>\n",
       "</div>"
      ],
      "text/plain": [
       "   Predictions  True Values\n",
       "0            0            0\n",
       "1            2            2\n",
       "2            2            2\n",
       "3            1            1\n",
       "4            2            2"
      ]
     },
     "execution_count": 58,
     "metadata": {},
     "output_type": "execute_result"
    }
   ],
   "source": [
    "results.head()"
   ]
  },
  {
   "cell_type": "code",
   "execution_count": 59,
   "metadata": {},
   "outputs": [],
   "source": [
    "# add a third column so I can get boolean values for each row as to whether or not the prediction matched the true value\n",
    "\n",
    "results['Correct'] = results['Predictions'] == results['True Values']"
   ]
  },
  {
   "cell_type": "code",
   "execution_count": 60,
   "metadata": {},
   "outputs": [
    {
     "data": {
      "text/html": [
       "<div>\n",
       "<style scoped>\n",
       "    .dataframe tbody tr th:only-of-type {\n",
       "        vertical-align: middle;\n",
       "    }\n",
       "\n",
       "    .dataframe tbody tr th {\n",
       "        vertical-align: top;\n",
       "    }\n",
       "\n",
       "    .dataframe thead th {\n",
       "        text-align: right;\n",
       "    }\n",
       "</style>\n",
       "<table border=\"1\" class=\"dataframe\">\n",
       "  <thead>\n",
       "    <tr style=\"text-align: right;\">\n",
       "      <th></th>\n",
       "      <th>Predictions</th>\n",
       "      <th>True Values</th>\n",
       "      <th>Correct</th>\n",
       "    </tr>\n",
       "  </thead>\n",
       "  <tbody>\n",
       "    <tr>\n",
       "      <th>0</th>\n",
       "      <td>0</td>\n",
       "      <td>0</td>\n",
       "      <td>True</td>\n",
       "    </tr>\n",
       "    <tr>\n",
       "      <th>1</th>\n",
       "      <td>2</td>\n",
       "      <td>2</td>\n",
       "      <td>True</td>\n",
       "    </tr>\n",
       "    <tr>\n",
       "      <th>2</th>\n",
       "      <td>2</td>\n",
       "      <td>2</td>\n",
       "      <td>True</td>\n",
       "    </tr>\n",
       "    <tr>\n",
       "      <th>3</th>\n",
       "      <td>1</td>\n",
       "      <td>1</td>\n",
       "      <td>True</td>\n",
       "    </tr>\n",
       "    <tr>\n",
       "      <th>4</th>\n",
       "      <td>2</td>\n",
       "      <td>2</td>\n",
       "      <td>True</td>\n",
       "    </tr>\n",
       "  </tbody>\n",
       "</table>\n",
       "</div>"
      ],
      "text/plain": [
       "   Predictions  True Values  Correct\n",
       "0            0            0     True\n",
       "1            2            2     True\n",
       "2            2            2     True\n",
       "3            1            1     True\n",
       "4            2            2     True"
      ]
     },
     "execution_count": 60,
     "metadata": {},
     "output_type": "execute_result"
    }
   ],
   "source": [
    "results.head()"
   ]
  },
  {
   "cell_type": "code",
   "execution_count": 61,
   "metadata": {},
   "outputs": [],
   "source": [
    "# how many the model got correct\n",
    "\n",
    "nbr_correct = results['Correct'].sum()"
   ]
  },
  {
   "cell_type": "code",
   "execution_count": 62,
   "metadata": {},
   "outputs": [],
   "source": [
    "# total number of data points\n",
    "\n",
    "total_row = len(results)"
   ]
  },
  {
   "cell_type": "code",
   "execution_count": 63,
   "metadata": {},
   "outputs": [],
   "source": [
    "# the accuracy score for my model\n",
    "\n",
    "accuracy = nbr_correct / total_row"
   ]
  },
  {
   "cell_type": "code",
   "execution_count": 64,
   "metadata": {},
   "outputs": [
    {
     "data": {
      "text/plain": [
       "0.9992922859164898"
      ]
     },
     "execution_count": 64,
     "metadata": {},
     "output_type": "execute_result"
    }
   ],
   "source": [
    "accuracy"
   ]
  },
  {
   "cell_type": "code",
   "execution_count": 72,
   "metadata": {},
   "outputs": [],
   "source": [
    "def prediction(row):\n",
    "\tpred = np.argmax(model.predict(row),axis=-1)\n",
    "\treturn pred"
   ]
  }
 ],
 "metadata": {
  "kernelspec": {
   "display_name": "Python 3",
   "language": "python",
   "name": "python3"
  },
  "language_info": {
   "codemirror_mode": {
    "name": "ipython",
    "version": 3
   },
   "file_extension": ".py",
   "mimetype": "text/x-python",
   "name": "python",
   "nbconvert_exporter": "python",
   "pygments_lexer": "ipython3",
   "version": "3.8.5"
  }
 },
 "nbformat": 4,
 "nbformat_minor": 4
}
