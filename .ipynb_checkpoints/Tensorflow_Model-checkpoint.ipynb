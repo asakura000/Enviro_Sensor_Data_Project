{
 "cells": [
  {
   "cell_type": "code",
   "execution_count": 1,
   "metadata": {},
   "outputs": [],
   "source": [
    "import pandas as pd \n",
    "import numpy as np\n",
    "\n",
    "import matplotlib.pyplot as plt\n",
    "import seaborn as sns\n",
    "\n",
    "from tensorflow.keras.models import Sequential\n",
    "from tensorflow.keras.layers import Dense\n",
    "from tensorflow.keras.wrappers.scikit_learn import KerasClassifier\n",
    "import tensorflow.keras.utils as utils\n",
    "from sklearn.model_selection import cross_val_score\n",
    "from sklearn.model_selection import train_test_split\n",
    "from sklearn.model_selection import KFold\n",
    "from sklearn.preprocessing import LabelEncoder\n",
    "from sklearn.pipeline import Pipeline\n",
    "from sklearn.datasets import make_classification\n",
    "from sklearn.preprocessing import MinMaxScaler\n",
    "from sklearn.metrics import classification_report,confusion_matrix"
   ]
  },
  {
   "cell_type": "code",
   "execution_count": 2,
   "metadata": {},
   "outputs": [],
   "source": [
    "# read in CSV files, add column labels \n",
    "\n",
    "df = pd.read_csv('enviro_data.csv', names=['DTG', 'temp', 'humidity', 'baro_pressure', 'co_2', 'tvoc', 'uv_raw', \n",
    "                                           'amb_raw', 'uv_idx', 'lux','violet', 'indigo', 'blue', 'cyan', 'green', \n",
    "                                           'yellow', 'orange', 'red', 'loc_class'])"
   ]
  },
  {
   "cell_type": "code",
   "execution_count": 3,
   "metadata": {},
   "outputs": [
    {
     "data": {
      "text/html": [
       "<div>\n",
       "<style scoped>\n",
       "    .dataframe tbody tr th:only-of-type {\n",
       "        vertical-align: middle;\n",
       "    }\n",
       "\n",
       "    .dataframe tbody tr th {\n",
       "        vertical-align: top;\n",
       "    }\n",
       "\n",
       "    .dataframe thead th {\n",
       "        text-align: right;\n",
       "    }\n",
       "</style>\n",
       "<table border=\"1\" class=\"dataframe\">\n",
       "  <thead>\n",
       "    <tr style=\"text-align: right;\">\n",
       "      <th></th>\n",
       "      <th>DTG</th>\n",
       "      <th>temp</th>\n",
       "      <th>humidity</th>\n",
       "      <th>baro_pressure</th>\n",
       "      <th>co_2</th>\n",
       "      <th>tvoc</th>\n",
       "      <th>uv_raw</th>\n",
       "      <th>amb_raw</th>\n",
       "      <th>uv_idx</th>\n",
       "      <th>lux</th>\n",
       "      <th>violet</th>\n",
       "      <th>indigo</th>\n",
       "      <th>blue</th>\n",
       "      <th>cyan</th>\n",
       "      <th>green</th>\n",
       "      <th>yellow</th>\n",
       "      <th>orange</th>\n",
       "      <th>red</th>\n",
       "      <th>loc_class</th>\n",
       "    </tr>\n",
       "  </thead>\n",
       "  <tbody>\n",
       "    <tr>\n",
       "      <th>0</th>\n",
       "      <td>2021-08-04 10:57:52</td>\n",
       "      <td>28.568</td>\n",
       "      <td>42.925</td>\n",
       "      <td>1020.728</td>\n",
       "      <td>400</td>\n",
       "      <td>0</td>\n",
       "      <td>98</td>\n",
       "      <td>59186</td>\n",
       "      <td>4.090</td>\n",
       "      <td>47338.4</td>\n",
       "      <td>65535</td>\n",
       "      <td>65535</td>\n",
       "      <td>65535</td>\n",
       "      <td>65535</td>\n",
       "      <td>65535</td>\n",
       "      <td>65535</td>\n",
       "      <td>65535</td>\n",
       "      <td>65535</td>\n",
       "      <td>blue</td>\n",
       "    </tr>\n",
       "    <tr>\n",
       "      <th>1</th>\n",
       "      <td>2021-08-04 10:57:54</td>\n",
       "      <td>28.612</td>\n",
       "      <td>42.682</td>\n",
       "      <td>1020.742</td>\n",
       "      <td>400</td>\n",
       "      <td>0</td>\n",
       "      <td>99</td>\n",
       "      <td>59865</td>\n",
       "      <td>4.132</td>\n",
       "      <td>47916.8</td>\n",
       "      <td>65535</td>\n",
       "      <td>65535</td>\n",
       "      <td>65535</td>\n",
       "      <td>65535</td>\n",
       "      <td>65535</td>\n",
       "      <td>65535</td>\n",
       "      <td>65535</td>\n",
       "      <td>65535</td>\n",
       "      <td>blue</td>\n",
       "    </tr>\n",
       "    <tr>\n",
       "      <th>2</th>\n",
       "      <td>2021-08-04 10:57:56</td>\n",
       "      <td>28.619</td>\n",
       "      <td>42.151</td>\n",
       "      <td>1020.720</td>\n",
       "      <td>400</td>\n",
       "      <td>0</td>\n",
       "      <td>99</td>\n",
       "      <td>60124</td>\n",
       "      <td>4.216</td>\n",
       "      <td>48069.6</td>\n",
       "      <td>65535</td>\n",
       "      <td>65535</td>\n",
       "      <td>65535</td>\n",
       "      <td>65535</td>\n",
       "      <td>65535</td>\n",
       "      <td>65535</td>\n",
       "      <td>65535</td>\n",
       "      <td>65535</td>\n",
       "      <td>blue</td>\n",
       "    </tr>\n",
       "    <tr>\n",
       "      <th>3</th>\n",
       "      <td>2021-08-04 10:57:58</td>\n",
       "      <td>28.595</td>\n",
       "      <td>41.746</td>\n",
       "      <td>1020.713</td>\n",
       "      <td>400</td>\n",
       "      <td>0</td>\n",
       "      <td>99</td>\n",
       "      <td>59416</td>\n",
       "      <td>4.090</td>\n",
       "      <td>46434.4</td>\n",
       "      <td>65535</td>\n",
       "      <td>65535</td>\n",
       "      <td>65535</td>\n",
       "      <td>65535</td>\n",
       "      <td>65535</td>\n",
       "      <td>65535</td>\n",
       "      <td>65535</td>\n",
       "      <td>65535</td>\n",
       "      <td>blue</td>\n",
       "    </tr>\n",
       "    <tr>\n",
       "      <th>4</th>\n",
       "      <td>2021-08-04 10:58:00</td>\n",
       "      <td>28.629</td>\n",
       "      <td>41.451</td>\n",
       "      <td>1020.549</td>\n",
       "      <td>400</td>\n",
       "      <td>0</td>\n",
       "      <td>54</td>\n",
       "      <td>27978</td>\n",
       "      <td>2.254</td>\n",
       "      <td>23488.8</td>\n",
       "      <td>56330</td>\n",
       "      <td>65535</td>\n",
       "      <td>65535</td>\n",
       "      <td>65535</td>\n",
       "      <td>65535</td>\n",
       "      <td>65535</td>\n",
       "      <td>65535</td>\n",
       "      <td>65535</td>\n",
       "      <td>blue</td>\n",
       "    </tr>\n",
       "  </tbody>\n",
       "</table>\n",
       "</div>"
      ],
      "text/plain": [
       "                   DTG    temp  humidity  baro_pressure  co_2  tvoc  uv_raw  \\\n",
       "0  2021-08-04 10:57:52  28.568    42.925       1020.728   400     0      98   \n",
       "1  2021-08-04 10:57:54  28.612    42.682       1020.742   400     0      99   \n",
       "2  2021-08-04 10:57:56  28.619    42.151       1020.720   400     0      99   \n",
       "3  2021-08-04 10:57:58  28.595    41.746       1020.713   400     0      99   \n",
       "4  2021-08-04 10:58:00  28.629    41.451       1020.549   400     0      54   \n",
       "\n",
       "   amb_raw  uv_idx      lux  violet  indigo   blue   cyan  green  yellow  \\\n",
       "0    59186   4.090  47338.4   65535   65535  65535  65535  65535   65535   \n",
       "1    59865   4.132  47916.8   65535   65535  65535  65535  65535   65535   \n",
       "2    60124   4.216  48069.6   65535   65535  65535  65535  65535   65535   \n",
       "3    59416   4.090  46434.4   65535   65535  65535  65535  65535   65535   \n",
       "4    27978   2.254  23488.8   56330   65535  65535  65535  65535   65535   \n",
       "\n",
       "   orange    red loc_class  \n",
       "0   65535  65535      blue  \n",
       "1   65535  65535      blue  \n",
       "2   65535  65535      blue  \n",
       "3   65535  65535      blue  \n",
       "4   65535  65535      blue  "
      ]
     },
     "execution_count": 3,
     "metadata": {},
     "output_type": "execute_result"
    }
   ],
   "source": [
    "df.head()"
   ]
  },
  {
   "cell_type": "code",
   "execution_count": 4,
   "metadata": {},
   "outputs": [],
   "source": [
    "df = df.drop(columns=['DTG', 'co_2', 'uv_raw', 'amb_raw'], axis=1)"
   ]
  },
  {
   "cell_type": "code",
   "execution_count": 5,
   "metadata": {},
   "outputs": [
    {
     "data": {
      "text/plain": [
       "Index(['temp', 'humidity', 'baro_pressure', 'tvoc', 'uv_idx', 'lux', 'violet',\n",
       "       'indigo', 'blue', 'cyan', 'green', 'yellow', 'orange', 'red',\n",
       "       'loc_class'],\n",
       "      dtype='object')"
      ]
     },
     "execution_count": 5,
     "metadata": {},
     "output_type": "execute_result"
    }
   ],
   "source": [
    "df.columns"
   ]
  },
  {
   "cell_type": "code",
   "execution_count": 6,
   "metadata": {},
   "outputs": [],
   "source": [
    "labels = df['loc_class']"
   ]
  },
  {
   "cell_type": "code",
   "execution_count": 9,
   "metadata": {},
   "outputs": [],
   "source": [
    "dataset = df.values\n",
    "X = dataset[:,0:14].astype(float)\n",
    "y = dataset[:,14]"
   ]
  },
  {
   "cell_type": "code",
   "execution_count": 10,
   "metadata": {},
   "outputs": [],
   "source": [
    "# encode class values as integers\n",
    "encoder = LabelEncoder()\n",
    "encoder.fit(y)\n",
    "encoded_y = encoder.transform(y)"
   ]
  },
  {
   "cell_type": "code",
   "execution_count": 11,
   "metadata": {},
   "outputs": [],
   "source": [
    "# convert integers to dummy variables (i.e. one hot encoded)\n",
    "y = utils.to_categorical(encoded_y)"
   ]
  },
  {
   "cell_type": "code",
   "execution_count": 12,
   "metadata": {},
   "outputs": [],
   "source": [
    "# define baseline model\n",
    "def baseline_model():\n",
    "\t# create model\n",
    "\tmodel = Sequential()\n",
    "\tmodel.add(Dense(28, input_dim=14, activation='relu'))\n",
    "\tmodel.add(Dense(3, activation='softmax'))\n",
    "\t# Compile model\n",
    "\tmodel.compile(loss='categorical_crossentropy', optimizer='adam', metrics=['accuracy'])\n",
    "\treturn model\n"
   ]
  },
  {
   "cell_type": "code",
   "execution_count": 13,
   "metadata": {},
   "outputs": [],
   "source": [
    "scaler = MinMaxScaler()"
   ]
  },
  {
   "cell_type": "code",
   "execution_count": 14,
   "metadata": {},
   "outputs": [],
   "source": [
    "X_train, X_test, y_train, y_test = train_test_split(X, y, test_size=0.3, random_state=101)"
   ]
  },
  {
   "cell_type": "code",
   "execution_count": 15,
   "metadata": {},
   "outputs": [],
   "source": [
    "X_train = scaler.fit_transform(X_train)"
   ]
  },
  {
   "cell_type": "code",
   "execution_count": 16,
   "metadata": {},
   "outputs": [],
   "source": [
    "X_test = scaler.transform(X_test)"
   ]
  },
  {
   "cell_type": "code",
   "execution_count": 17,
   "metadata": {},
   "outputs": [],
   "source": [
    "model = baseline_model()"
   ]
  },
  {
   "cell_type": "code",
   "execution_count": 18,
   "metadata": {},
   "outputs": [
    {
     "name": "stdout",
     "output_type": "stream",
     "text": [
      "Epoch 1/10\n",
      "1236/1236 [==============================] - 1s 466us/step - loss: 0.7423 - accuracy: 0.6710\n",
      "Epoch 2/10\n",
      "1236/1236 [==============================] - 1s 459us/step - loss: 0.2427 - accuracy: 0.9250\n",
      "Epoch 3/10\n",
      "1236/1236 [==============================] - 1s 455us/step - loss: 0.1811 - accuracy: 0.9279\n",
      "Epoch 4/10\n",
      "1236/1236 [==============================] - 1s 458us/step - loss: 0.1702 - accuracy: 0.9230\n",
      "Epoch 5/10\n",
      "1236/1236 [==============================] - 1s 454us/step - loss: 0.1389 - accuracy: 0.9407\n",
      "Epoch 6/10\n",
      "1236/1236 [==============================] - 1s 453us/step - loss: 0.1278 - accuracy: 0.9416\n",
      "Epoch 7/10\n",
      "1236/1236 [==============================] - 1s 457us/step - loss: 0.1148 - accuracy: 0.9471\n",
      "Epoch 8/10\n",
      "1236/1236 [==============================] - 1s 455us/step - loss: 0.1058 - accuracy: 0.9553\n",
      "Epoch 9/10\n",
      "1236/1236 [==============================] - 1s 452us/step - loss: 0.1021 - accuracy: 0.9531\n",
      "Epoch 10/10\n",
      "1236/1236 [==============================] - 1s 457us/step - loss: 0.0931 - accuracy: 0.9592\n"
     ]
    },
    {
     "data": {
      "text/plain": [
       "<tensorflow.python.keras.callbacks.History at 0x7f90006129a0>"
      ]
     },
     "execution_count": 18,
     "metadata": {},
     "output_type": "execute_result"
    }
   ],
   "source": [
    "model.fit(X_train, y_train, epochs=10, batch_size=4, verbose=1)"
   ]
  },
  {
   "cell_type": "code",
   "execution_count": 19,
   "metadata": {},
   "outputs": [],
   "source": [
    "loss = pd.DataFrame(model.history.history)"
   ]
  },
  {
   "cell_type": "code",
   "execution_count": 20,
   "metadata": {},
   "outputs": [
    {
     "data": {
      "text/plain": [
       "<AxesSubplot:>"
      ]
     },
     "execution_count": 20,
     "metadata": {},
     "output_type": "execute_result"
    },
    {
     "data": {
      "image/png": "[encoded data removed]",
      "text/plain": [
       "<Figure size 432x288 with 1 Axes>"
      ]
     },
     "metadata": {
      "needs_background": "light"
     },
     "output_type": "display_data"
    }
   ],
   "source": [
    "loss.plot()"
   ]
  },
  {
   "cell_type": "code",
   "execution_count": 21,
   "metadata": {},
   "outputs": [],
   "source": [
    "#predictions = model.predict_classes(X_test)\n",
    "\n",
    "predictions = np.argmax(model.predict(X_test), axis=-1)"
   ]
  },
  {
   "cell_type": "code",
   "execution_count": 22,
   "metadata": {},
   "outputs": [
    {
     "data": {
      "text/plain": [
       "array([1, 1, 2, ..., 0, 2, 2])"
      ]
     },
     "execution_count": 22,
     "metadata": {},
     "output_type": "execute_result"
    }
   ],
   "source": [
    "predictions"
   ]
  },
  {
   "cell_type": "code",
   "execution_count": 23,
   "metadata": {},
   "outputs": [
    {
     "data": {
      "text/plain": [
       "numpy.ndarray"
      ]
     },
     "execution_count": 23,
     "metadata": {},
     "output_type": "execute_result"
    }
   ],
   "source": [
    "type(predictions)"
   ]
  },
  {
   "cell_type": "code",
   "execution_count": 24,
   "metadata": {},
   "outputs": [
    {
     "data": {
      "text/plain": [
       "array([[0., 1., 0.],\n",
       "       [0., 1., 0.],\n",
       "       [0., 0., 1.],\n",
       "       ...,\n",
       "       [1., 0., 0.],\n",
       "       [0., 0., 1.],\n",
       "       [0., 0., 1.]], dtype=float32)"
      ]
     },
     "execution_count": 24,
     "metadata": {},
     "output_type": "execute_result"
    }
   ],
   "source": [
    "y_test"
   ]
  },
  {
   "cell_type": "code",
   "execution_count": 25,
   "metadata": {},
   "outputs": [
    {
     "data": {
      "text/plain": [
       "numpy.float32"
      ]
     },
     "execution_count": 25,
     "metadata": {},
     "output_type": "execute_result"
    }
   ],
   "source": [
    "type(y_test[0][0])"
   ]
  },
  {
   "cell_type": "code",
   "execution_count": 26,
   "metadata": {},
   "outputs": [
    {
     "data": {
      "text/plain": [
       "array([[0, 1, 0],\n",
       "       [0, 1, 0],\n",
       "       [0, 0, 1],\n",
       "       ...,\n",
       "       [1, 0, 0],\n",
       "       [0, 0, 1],\n",
       "       [0, 0, 1]])"
      ]
     },
     "execution_count": 26,
     "metadata": {},
     "output_type": "execute_result"
    }
   ],
   "source": [
    "y_test.astype(int)"
   ]
  },
  {
   "cell_type": "code",
   "execution_count": 27,
   "metadata": {},
   "outputs": [],
   "source": [
    "def convert_to_int(some_array):\n",
    "    true_values = []\n",
    "    for val in some_array:\n",
    "        if val[0] == 1:\n",
    "            true_values.append(0)\n",
    "        elif val[1] == 1:\n",
    "            true_values.append(1)\n",
    "        elif val[2] == 1:\n",
    "            true_values.append(2)\n",
    "    \n",
    "    return true_values\n"
   ]
  },
  {
   "cell_type": "code",
   "execution_count": 28,
   "metadata": {},
   "outputs": [],
   "source": [
    "true_y = convert_to_int(y_test)"
   ]
  },
  {
   "cell_type": "code",
   "execution_count": 29,
   "metadata": {},
   "outputs": [],
   "source": [
    "predictions = pd.DataFrame(predictions)"
   ]
  },
  {
   "cell_type": "code",
   "execution_count": 30,
   "metadata": {},
   "outputs": [],
   "source": [
    "true_y = pd.DataFrame(true_y)"
   ]
  },
  {
   "cell_type": "code",
   "execution_count": 31,
   "metadata": {},
   "outputs": [],
   "source": [
    "both = [predictions, true_y]"
   ]
  },
  {
   "cell_type": "code",
   "execution_count": 32,
   "metadata": {},
   "outputs": [],
   "source": [
    "results = pd.concat(both, axis=1)"
   ]
  },
  {
   "cell_type": "code",
   "execution_count": 33,
   "metadata": {},
   "outputs": [
    {
     "data": {
      "text/plain": [
       "Int64Index([0, 0], dtype='int64')"
      ]
     },
     "execution_count": 33,
     "metadata": {},
     "output_type": "execute_result"
    }
   ],
   "source": [
    "results.columns"
   ]
  },
  {
   "cell_type": "code",
   "execution_count": 395,
   "metadata": {},
   "outputs": [],
   "source": [
    "results.columns=['Predictions', 'True Values']"
   ]
  },
  {
   "cell_type": "code",
   "execution_count": 396,
   "metadata": {},
   "outputs": [
    {
     "data": {
      "text/html": [
       "<div>\n",
       "<style scoped>\n",
       "    .dataframe tbody tr th:only-of-type {\n",
       "        vertical-align: middle;\n",
       "    }\n",
       "\n",
       "    .dataframe tbody tr th {\n",
       "        vertical-align: top;\n",
       "    }\n",
       "\n",
       "    .dataframe thead th {\n",
       "        text-align: right;\n",
       "    }\n",
       "</style>\n",
       "<table border=\"1\" class=\"dataframe\">\n",
       "  <thead>\n",
       "    <tr style=\"text-align: right;\">\n",
       "      <th></th>\n",
       "      <th>Predictions</th>\n",
       "      <th>True Values</th>\n",
       "    </tr>\n",
       "  </thead>\n",
       "  <tbody>\n",
       "    <tr>\n",
       "      <th>0</th>\n",
       "      <td>1</td>\n",
       "      <td>1</td>\n",
       "    </tr>\n",
       "    <tr>\n",
       "      <th>1</th>\n",
       "      <td>1</td>\n",
       "      <td>1</td>\n",
       "    </tr>\n",
       "    <tr>\n",
       "      <th>2</th>\n",
       "      <td>2</td>\n",
       "      <td>2</td>\n",
       "    </tr>\n",
       "    <tr>\n",
       "      <th>3</th>\n",
       "      <td>0</td>\n",
       "      <td>0</td>\n",
       "    </tr>\n",
       "    <tr>\n",
       "      <th>4</th>\n",
       "      <td>2</td>\n",
       "      <td>2</td>\n",
       "    </tr>\n",
       "  </tbody>\n",
       "</table>\n",
       "</div>"
      ],
      "text/plain": [
       "   Predictions  True Values\n",
       "0            1            1\n",
       "1            1            1\n",
       "2            2            2\n",
       "3            0            0\n",
       "4            2            2"
      ]
     },
     "execution_count": 396,
     "metadata": {},
     "output_type": "execute_result"
    }
   ],
   "source": [
    "results.head()"
   ]
  },
  {
   "cell_type": "code",
   "execution_count": 397,
   "metadata": {},
   "outputs": [],
   "source": [
    "results['Correct'] = results['Predictions'] == results['True Values']"
   ]
  },
  {
   "cell_type": "code",
   "execution_count": 398,
   "metadata": {},
   "outputs": [
    {
     "data": {
      "text/html": [
       "<div>\n",
       "<style scoped>\n",
       "    .dataframe tbody tr th:only-of-type {\n",
       "        vertical-align: middle;\n",
       "    }\n",
       "\n",
       "    .dataframe tbody tr th {\n",
       "        vertical-align: top;\n",
       "    }\n",
       "\n",
       "    .dataframe thead th {\n",
       "        text-align: right;\n",
       "    }\n",
       "</style>\n",
       "<table border=\"1\" class=\"dataframe\">\n",
       "  <thead>\n",
       "    <tr style=\"text-align: right;\">\n",
       "      <th></th>\n",
       "      <th>Predictions</th>\n",
       "      <th>True Values</th>\n",
       "      <th>Correct</th>\n",
       "    </tr>\n",
       "  </thead>\n",
       "  <tbody>\n",
       "    <tr>\n",
       "      <th>0</th>\n",
       "      <td>1</td>\n",
       "      <td>1</td>\n",
       "      <td>True</td>\n",
       "    </tr>\n",
       "    <tr>\n",
       "      <th>1</th>\n",
       "      <td>1</td>\n",
       "      <td>1</td>\n",
       "      <td>True</td>\n",
       "    </tr>\n",
       "    <tr>\n",
       "      <th>2</th>\n",
       "      <td>2</td>\n",
       "      <td>2</td>\n",
       "      <td>True</td>\n",
       "    </tr>\n",
       "    <tr>\n",
       "      <th>3</th>\n",
       "      <td>0</td>\n",
       "      <td>0</td>\n",
       "      <td>True</td>\n",
       "    </tr>\n",
       "    <tr>\n",
       "      <th>4</th>\n",
       "      <td>2</td>\n",
       "      <td>2</td>\n",
       "      <td>True</td>\n",
       "    </tr>\n",
       "  </tbody>\n",
       "</table>\n",
       "</div>"
      ],
      "text/plain": [
       "   Predictions  True Values  Correct\n",
       "0            1            1     True\n",
       "1            1            1     True\n",
       "2            2            2     True\n",
       "3            0            0     True\n",
       "4            2            2     True"
      ]
     },
     "execution_count": 398,
     "metadata": {},
     "output_type": "execute_result"
    }
   ],
   "source": [
    "results.head()"
   ]
  },
  {
   "cell_type": "code",
   "execution_count": 399,
   "metadata": {},
   "outputs": [],
   "source": [
    "nbr_correct = results['Correct'].sum()"
   ]
  },
  {
   "cell_type": "code",
   "execution_count": 400,
   "metadata": {},
   "outputs": [],
   "source": [
    "total_row = len(results)"
   ]
  },
  {
   "cell_type": "code",
   "execution_count": 401,
   "metadata": {},
   "outputs": [],
   "source": [
    "accuracy = nbr_correct / total_row"
   ]
  },
  {
   "cell_type": "code",
   "execution_count": 402,
   "metadata": {},
   "outputs": [
    {
     "data": {
      "text/plain": [
       "0.9504483246814536"
      ]
     },
     "execution_count": 402,
     "metadata": {},
     "output_type": "execute_result"
    }
   ],
   "source": [
    "accuracy"
   ]
  },
  {
   "cell_type": "code",
   "execution_count": 403,
   "metadata": {},
   "outputs": [],
   "source": [
    "# import tensorflow as tf"
   ]
  },
  {
   "cell_type": "code",
   "execution_count": 404,
   "metadata": {},
   "outputs": [],
   "source": [
    "# Convert the model to a tflite model\n",
    "\n",
    "# converter = tf.lite.TFLiteConverter.from_keras_model(model)\n",
    "# tflite_model = converter.convert()"
   ]
  },
  {
   "cell_type": "code",
   "execution_count": 405,
   "metadata": {},
   "outputs": [],
   "source": [
    "# Save the model\n",
    "\n",
    "# with open('model.tflite', 'wb') as f:\n",
    "#   f.write(tflite_model)"
   ]
  },
  {
   "cell_type": "code",
   "execution_count": null,
   "metadata": {},
   "outputs": [],
   "source": []
  }
 ],
 "metadata": {
  "kernelspec": {
   "display_name": "Python 3",
   "language": "python",
   "name": "python3"
  },
  "language_info": {
   "codemirror_mode": {
    "name": "ipython",
    "version": 3
   },
   "file_extension": ".py",
   "mimetype": "text/x-python",
   "name": "python",
   "nbconvert_exporter": "python",
   "pygments_lexer": "ipython3",
   "version": "3.8.5"
  }
 },
 "nbformat": 4,
 "nbformat_minor": 4
}
